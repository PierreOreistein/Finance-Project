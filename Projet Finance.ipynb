{
 "cells": [
  {
   "cell_type": "markdown",
   "metadata": {},
   "source": [
    "## Bibliothèques "
   ]
  },
  {
   "cell_type": "code",
   "execution_count": 1,
   "metadata": {
    "collapsed": true
   },
   "outputs": [],
   "source": [
    "import numpy as np\n",
    "from math import *\n",
    "import matplotlib.pyplot as plt\n",
    "from scipy.integrate import quad, odeint\n",
    "import seaborn\n",
    "from tqdm import tqdm"
   ]
  },
  {
   "cell_type": "markdown",
   "metadata": {},
   "source": [
    "## Fonctions génératrices de gaussiennes"
   ]
  },
  {
   "cell_type": "code",
   "execution_count": 2,
   "metadata": {
    "collapsed": true
   },
   "outputs": [],
   "source": [
    "## Step 1 - Generate G1,...Gd n i.i.d. samples following the law of G\n",
    "\n",
    "def n_corr_gaussians():\n",
    "    G = np.random.normal(0,1,d)\n",
    "    G = G.reshape((-1,1))\n",
    "\n",
    "    return G\n",
    "\n",
    "def corr_guassians():\n",
    "\n",
    "    C = np.array([[int(i==j)+ rho*int(i!=j) for i in range(d)] for j in range(d)])\n",
    "    L = np.linalg.cholesky(C)\n",
    "    G = np.random.normal(0,1,d*N)\n",
    "    G = G.reshape((-1,1))\n",
    "\n",
    "    rep_L = np.tile(L,(1,N))\n",
    "    W_TN = (sqrt(h) * rep_L.dot(G)).reshape((-1,1))\n",
    "    somme = np.linalg.norm(L)\n",
    "    W_TN = W_TN / somme * T\n",
    "\n",
    "    return W_TN\n",
    "\n",
    "def corr_Gn():\n",
    "    Gn_T = np.zeros((d,n))\n",
    "\n",
    "    for i in range(n):\n",
    "        W_TN = corr_guassians()\n",
    "        Gn_T[:,i] = W_TN[:,-1]\n",
    "\n",
    "    return Gn_T\n",
    "\n",
    "def n_corr_Gn():\n",
    "    Gn_T = np.zeros((d,n))\n",
    "\n",
    "    for i in range(n):\n",
    "        W_TN = n_corr_gaussians()\n",
    "        Gn_T[:,i] = W_TN[:,-1]\n",
    "\n",
    "    return Gn_T\n",
    "\n",
    "\n",
    "def BS(S0, W_TN):\n",
    "\n",
    "    W_TN = W_TN.reshape((-1,1))\n",
    "    S_TN = S0 * np.exp((r-(sigmas**2)/2) * T + sigmas * W_TN)\n",
    "    S_TN = S_TN.reshape((-1,1))\n",
    "\n",
    "    return S_TN"
   ]
  },
  {
   "cell_type": "markdown",
   "metadata": {},
   "source": [
    "## Calcul de l'espérance : "
   ]
  },
  {
   "cell_type": "code",
   "execution_count": 3,
   "metadata": {
    "collapsed": true
   },
   "outputs": [],
   "source": [
    "## Step 2 - Compute the minimizer\n",
    "\n",
    "def f(G_T):\n",
    "\n",
    "    d_G, nb_G = np.shape(G_T)\n",
    "    S_TN = np.zeros((d,nb_G))\n",
    "    for i in range(nb_G):\n",
    "        S_TN[:,i] = BS(S0, G_T[:,i]).reshape(-1)\n",
    "    maxi = np.amax(K - portofolio.dot(S_TN), axis=0) #########################################################\n",
    "    return np.where(maxi < 0, 0, maxi)\n",
    "\n",
    "def grad_un_v (A, v, Gn_T):\n",
    "    grad = (A.T).dot(A).dot(v).reshape((-1,1))\n",
    "    temp = (f(Gn_T)**2).reshape((1,-1))\n",
    "    somme = np.sum((A.T).dot(Gn_T) * temp * (np.exp(-(A.dot(v).reshape((-1,1))).T.dot(Gn_T)).reshape((1,-1))), axis=1)\n",
    "    somme = somme / max(10,np.sum(temp * (np.exp(-(A.dot(v).reshape((-1,1))).T.dot(Gn_T)))))\n",
    "    grad = grad - somme.reshape((-1,1))\n",
    "    return grad\n",
    "\n",
    "def hessian_un_v(A, v, Gn_T):\n",
    "    hess = A.T.dot(A)\n",
    "    temp = ((f(Gn_T)**2).reshape((1,-1)))\n",
    "    somme1 = 0\n",
    "    somme2 = 0\n",
    "    somme3 = 0\n",
    "\n",
    "    for i in range(n):\n",
    "        Gi = Gn_T[:,i]\n",
    "        Gi = Gi.reshape((-1,1))\n",
    "        temp2 = (temp[0,i] * np.exp(-(A.dot(v).reshape((-1,1))).T.dot(Gi)))\n",
    "        somme1 = somme1 + (A.T.dot(Gi).dot(Gi.T).dot(A)) * temp2\n",
    "        somme2 = somme2 + temp2\n",
    "        somme3 = somme3 + A.T.dot(Gi) * temp2\n",
    "    somme2 = max(10e-6, somme2)\n",
    "    hess = hess + somme1 /somme2 - somme3.dot(somme3.T) /((somme2)**2)\n",
    "    return hess\n",
    "\n",
    "# Newton's algorithm\n",
    "\n",
    "def newton(A, x0, Gn_T, eps = 10**(-6)):\n",
    "    xn_k = x0\n",
    "    xn_k = xn_k.reshape((-1,1))\n",
    "    k = 1\n",
    "    g = grad_un_v(A, xn_k, Gn_T)\n",
    "\n",
    "    nb_iter = 0\n",
    "    while np.linalg.norm(g) > eps and nb_iter<15:\n",
    "        h = hessian_un_v(A,xn_k,Gn_T)\n",
    "        g = -grad_un_v(A,xn_k,Gn_T)\n",
    "        d = np.linalg.inv(h).dot(g)\n",
    "        #print(\"d\\n\", d)\n",
    "        xn_k = xn_k + 1*d.reshape((-1,1))\n",
    "        k += 1\n",
    "        nb_iter += 1\n",
    "        print(\"Norme du gradient :\", np.linalg.norm(g))\n",
    "    return xn_k\n",
    "\n",
    "## Step 3 - Compute E[f(G)] by Monte Carlo\n",
    "\n",
    "def expectation(Gn_T, A, x0, eps):\n",
    "\n",
    "    xn = newton(A, x0, Gn_T, eps)\n",
    "    xn = xn.reshape((-1,1))\n",
    "\n",
    "    Mn = 0\n",
    "    for i in range(n):\n",
    "        Gi = Gn_T[:,i]\n",
    "        Gi = Gi.reshape((-1,1))\n",
    "        power = (A.dot(xn).T).dot(Gi/sqrt(T)) + np.linalg.norm(A.dot(xn))**2/2\n",
    "        temp = f(Gi/sqrt(T) + A.dot(xn).reshape((-1,1))) * exp(-power)\n",
    "        Mn += temp\n",
    "    return exp(-r*T)/n*Mn"
   ]
  },
  {
   "cell_type": "markdown",
   "metadata": {},
   "source": [
    "## Calcul de l'influence de r :"
   ]
  },
  {
   "cell_type": "code",
   "execution_count": 11,
   "metadata": {
    "scrolled": true
   },
   "outputs": [
    {
     "name": "stdout",
     "output_type": "stream",
     "text": [
      "Computing price with independant Brownian Motions... \n",
      "\n",
      "Computing of Gn ...\n",
      "Computing of E ...\n",
      "Norme du gradient : 10.6352258511\n",
      "Norme du gradient : 5.15847154089\n",
      "Norme du gradient : 0.990000798558\n",
      "Norme du gradient : 0.0310813094703\n",
      "Norme du gradient : 2.88091206158e-05\n",
      "Norme du gradient : 3.28767646078e-11\n",
      "-> The price is [ 2.3780425] \n",
      "\n",
      "\n",
      "\n",
      "\n",
      "\n",
      "Computing price with correlated Brownian Motions... \n",
      "\n",
      "Computing of Gn ...\n"
     ]
    },
    {
     "ename": "KeyboardInterrupt",
     "evalue": "",
     "output_type": "error",
     "traceback": [
      "\u001b[0;31m---------------------------------------------------------------------------\u001b[0m",
      "\u001b[0;31mKeyboardInterrupt\u001b[0m                         Traceback (most recent call last)",
      "\u001b[0;32m<ipython-input-11-c398ed33f499>\u001b[0m in \u001b[0;36m<module>\u001b[0;34m()\u001b[0m\n\u001b[1;32m     27\u001b[0m \u001b[0mprint\u001b[0m\u001b[0;34m(\u001b[0m\u001b[0;34m\"Computing price with correlated Brownian Motions... \\n\"\u001b[0m\u001b[0;34m)\u001b[0m\u001b[0;34m\u001b[0m\u001b[0m\n\u001b[1;32m     28\u001b[0m \u001b[0mprint\u001b[0m\u001b[0;34m(\u001b[0m\u001b[0;34m\"Computing of Gn ...\"\u001b[0m\u001b[0;34m)\u001b[0m\u001b[0;34m\u001b[0m\u001b[0m\n\u001b[0;32m---> 29\u001b[0;31m \u001b[0mQ\u001b[0m \u001b[0;34m=\u001b[0m \u001b[0mcorr_Gn\u001b[0m\u001b[0;34m(\u001b[0m\u001b[0;34m)\u001b[0m\u001b[0;34m\u001b[0m\u001b[0m\n\u001b[0m\u001b[1;32m     30\u001b[0m \u001b[0mprint\u001b[0m\u001b[0;34m(\u001b[0m\u001b[0;34m\"Computing of E ...\"\u001b[0m\u001b[0;34m)\u001b[0m\u001b[0;34m\u001b[0m\u001b[0m\n\u001b[1;32m     31\u001b[0m \u001b[0mp2\u001b[0m \u001b[0;34m=\u001b[0m \u001b[0mexpectation\u001b[0m\u001b[0;34m(\u001b[0m\u001b[0mQ\u001b[0m\u001b[0;34m,\u001b[0m\u001b[0mA\u001b[0m\u001b[0;34m,\u001b[0m\u001b[0mx0\u001b[0m\u001b[0;34m,\u001b[0m\u001b[0;36m10\u001b[0m\u001b[0;34m**\u001b[0m\u001b[0;34m(\u001b[0m\u001b[0;34m-\u001b[0m\u001b[0;36m6\u001b[0m\u001b[0;34m)\u001b[0m\u001b[0;34m)\u001b[0m\u001b[0;34m\u001b[0m\u001b[0m\n",
      "\u001b[0;32m<ipython-input-9-976fdd8a2ef5>\u001b[0m in \u001b[0;36mcorr_Gn\u001b[0;34m()\u001b[0m\n\u001b[1;32m     25\u001b[0m \u001b[0;34m\u001b[0m\u001b[0m\n\u001b[1;32m     26\u001b[0m     \u001b[0;32mfor\u001b[0m \u001b[0mi\u001b[0m \u001b[0;32min\u001b[0m \u001b[0mrange\u001b[0m\u001b[0;34m(\u001b[0m\u001b[0mn\u001b[0m\u001b[0;34m)\u001b[0m\u001b[0;34m:\u001b[0m\u001b[0;34m\u001b[0m\u001b[0m\n\u001b[0;32m---> 27\u001b[0;31m         \u001b[0mW_TN\u001b[0m \u001b[0;34m=\u001b[0m \u001b[0mcorr_guassians\u001b[0m\u001b[0;34m(\u001b[0m\u001b[0;34m)\u001b[0m\u001b[0;34m\u001b[0m\u001b[0m\n\u001b[0m\u001b[1;32m     28\u001b[0m         \u001b[0mGn_T\u001b[0m\u001b[0;34m[\u001b[0m\u001b[0;34m:\u001b[0m\u001b[0;34m,\u001b[0m\u001b[0mi\u001b[0m\u001b[0;34m]\u001b[0m \u001b[0;34m=\u001b[0m \u001b[0mW_TN\u001b[0m\u001b[0;34m[\u001b[0m\u001b[0;34m:\u001b[0m\u001b[0;34m,\u001b[0m\u001b[0;34m-\u001b[0m\u001b[0;36m1\u001b[0m\u001b[0;34m]\u001b[0m\u001b[0;34m\u001b[0m\u001b[0m\n\u001b[1;32m     29\u001b[0m \u001b[0;34m\u001b[0m\u001b[0m\n",
      "\u001b[0;32m<ipython-input-9-976fdd8a2ef5>\u001b[0m in \u001b[0;36mcorr_guassians\u001b[0;34m()\u001b[0m\n\u001b[1;32m     10\u001b[0m \u001b[0;34m\u001b[0m\u001b[0m\n\u001b[1;32m     11\u001b[0m     \u001b[0mC\u001b[0m \u001b[0;34m=\u001b[0m \u001b[0mnp\u001b[0m\u001b[0;34m.\u001b[0m\u001b[0marray\u001b[0m\u001b[0;34m(\u001b[0m\u001b[0;34m[\u001b[0m\u001b[0;34m[\u001b[0m\u001b[0mint\u001b[0m\u001b[0;34m(\u001b[0m\u001b[0mi\u001b[0m\u001b[0;34m==\u001b[0m\u001b[0mj\u001b[0m\u001b[0;34m)\u001b[0m\u001b[0;34m+\u001b[0m \u001b[0mrho\u001b[0m\u001b[0;34m*\u001b[0m\u001b[0mint\u001b[0m\u001b[0;34m(\u001b[0m\u001b[0mi\u001b[0m\u001b[0;34m!=\u001b[0m\u001b[0mj\u001b[0m\u001b[0;34m)\u001b[0m \u001b[0;32mfor\u001b[0m \u001b[0mi\u001b[0m \u001b[0;32min\u001b[0m \u001b[0mrange\u001b[0m\u001b[0;34m(\u001b[0m\u001b[0md\u001b[0m\u001b[0;34m)\u001b[0m\u001b[0;34m]\u001b[0m \u001b[0;32mfor\u001b[0m \u001b[0mj\u001b[0m \u001b[0;32min\u001b[0m \u001b[0mrange\u001b[0m\u001b[0;34m(\u001b[0m\u001b[0md\u001b[0m\u001b[0;34m)\u001b[0m\u001b[0;34m]\u001b[0m\u001b[0;34m)\u001b[0m\u001b[0;34m\u001b[0m\u001b[0m\n\u001b[0;32m---> 12\u001b[0;31m     \u001b[0mL\u001b[0m \u001b[0;34m=\u001b[0m \u001b[0mnp\u001b[0m\u001b[0;34m.\u001b[0m\u001b[0mlinalg\u001b[0m\u001b[0;34m.\u001b[0m\u001b[0mcholesky\u001b[0m\u001b[0;34m(\u001b[0m\u001b[0mC\u001b[0m\u001b[0;34m)\u001b[0m\u001b[0;34m\u001b[0m\u001b[0m\n\u001b[0m\u001b[1;32m     13\u001b[0m     \u001b[0mG\u001b[0m \u001b[0;34m=\u001b[0m \u001b[0mnp\u001b[0m\u001b[0;34m.\u001b[0m\u001b[0mrandom\u001b[0m\u001b[0;34m.\u001b[0m\u001b[0mnormal\u001b[0m\u001b[0;34m(\u001b[0m\u001b[0;36m0\u001b[0m\u001b[0;34m,\u001b[0m\u001b[0;36m1\u001b[0m\u001b[0;34m,\u001b[0m\u001b[0md\u001b[0m\u001b[0;34m*\u001b[0m\u001b[0mN\u001b[0m\u001b[0;34m)\u001b[0m\u001b[0;34m\u001b[0m\u001b[0m\n\u001b[1;32m     14\u001b[0m     \u001b[0mG\u001b[0m \u001b[0;34m=\u001b[0m \u001b[0mG\u001b[0m\u001b[0;34m.\u001b[0m\u001b[0mreshape\u001b[0m\u001b[0;34m(\u001b[0m\u001b[0;34m(\u001b[0m\u001b[0;34m-\u001b[0m\u001b[0;36m1\u001b[0m\u001b[0;34m,\u001b[0m\u001b[0;36m1\u001b[0m\u001b[0;34m)\u001b[0m\u001b[0;34m)\u001b[0m\u001b[0;34m\u001b[0m\u001b[0m\n",
      "\u001b[0;32m/home/pierre/anaconda3/lib/python3.6/site-packages/numpy/linalg/linalg.py\u001b[0m in \u001b[0;36mcholesky\u001b[0;34m(a)\u001b[0m\n\u001b[1;32m    610\u001b[0m     \u001b[0mt\u001b[0m\u001b[0;34m,\u001b[0m \u001b[0mresult_t\u001b[0m \u001b[0;34m=\u001b[0m \u001b[0m_commonType\u001b[0m\u001b[0;34m(\u001b[0m\u001b[0ma\u001b[0m\u001b[0;34m)\u001b[0m\u001b[0;34m\u001b[0m\u001b[0m\n\u001b[1;32m    611\u001b[0m     \u001b[0msignature\u001b[0m \u001b[0;34m=\u001b[0m \u001b[0;34m'D->D'\u001b[0m \u001b[0;32mif\u001b[0m \u001b[0misComplexType\u001b[0m\u001b[0;34m(\u001b[0m\u001b[0mt\u001b[0m\u001b[0;34m)\u001b[0m \u001b[0;32melse\u001b[0m \u001b[0;34m'd->d'\u001b[0m\u001b[0;34m\u001b[0m\u001b[0m\n\u001b[0;32m--> 612\u001b[0;31m     \u001b[0mr\u001b[0m \u001b[0;34m=\u001b[0m \u001b[0mgufunc\u001b[0m\u001b[0;34m(\u001b[0m\u001b[0ma\u001b[0m\u001b[0;34m,\u001b[0m \u001b[0msignature\u001b[0m\u001b[0;34m=\u001b[0m\u001b[0msignature\u001b[0m\u001b[0;34m,\u001b[0m \u001b[0mextobj\u001b[0m\u001b[0;34m=\u001b[0m\u001b[0mextobj\u001b[0m\u001b[0;34m)\u001b[0m\u001b[0;34m\u001b[0m\u001b[0m\n\u001b[0m\u001b[1;32m    613\u001b[0m     \u001b[0;32mreturn\u001b[0m \u001b[0mwrap\u001b[0m\u001b[0;34m(\u001b[0m\u001b[0mr\u001b[0m\u001b[0;34m.\u001b[0m\u001b[0mastype\u001b[0m\u001b[0;34m(\u001b[0m\u001b[0mresult_t\u001b[0m\u001b[0;34m,\u001b[0m \u001b[0mcopy\u001b[0m\u001b[0;34m=\u001b[0m\u001b[0;32mFalse\u001b[0m\u001b[0;34m)\u001b[0m\u001b[0;34m)\u001b[0m\u001b[0;34m\u001b[0m\u001b[0m\n\u001b[1;32m    614\u001b[0m \u001b[0;34m\u001b[0m\u001b[0m\n",
      "\u001b[0;31mKeyboardInterrupt\u001b[0m: "
     ]
    }
   ],
   "source": [
    "## Parameters :\n",
    "\n",
    "d = 40              # actif\n",
    "r = 0.05            # Facteur d'actualisation\n",
    "T = 1               # maturite\n",
    "S0 = 50             # Initialisation des modèles de BS\n",
    "sigmas = np.array([[0.2] for i in range(d)])        # Sigma des modèles de BS\n",
    "portofolio = np.array([[1/d for i in range(d)]])    # Répartition entre les différents BS\n",
    "K = 55                                              # Strike\n",
    "n = 5000                                           # Nombre de simulations pour Monte-Carlo\n",
    "N = 100                                             # Nombre de points de discrétisation\n",
    "rho = 0.1\n",
    "h = sqrt(T/(N))\n",
    "\n",
    "\n",
    "x0 = np.ones((d,1)).reshape((d,1))\n",
    "A = np.identity(d)\n",
    "\n",
    "print(\"Computing price with independant Brownian Motions... \\n\")\n",
    "print(\"Computing of Gn ...\")\n",
    "G = n_corr_Gn()\n",
    "print(\"Computing of E ...\")\n",
    "p1 = expectation(G,A,x0,10**(-6))\n",
    "print(\"-> The price is {} \\n\".format(p1))\n",
    "\n",
    "print(\"\\n\\n\\n\")\n",
    "print(\"Computing price with correlated Brownian Motions... \\n\")\n",
    "print(\"Computing of Gn ...\")\n",
    "Q = corr_Gn()\n",
    "print(\"Computing of E ...\")\n",
    "p2 = expectation(Q,A,x0,10**(-6))\n",
    "print(\"-> The price is {} \\n\".format(p2))\n",
    "\n",
    "\n",
    "## Courbe d'influence de r :\n",
    "print(\"\\nInfluence de r :\\n\")\n",
    "\n",
    "plt.figure()\n",
    "r_s = np.linspace(0.03,0.1,2)\n",
    "p_n_c = []\n",
    "p_c = []\n",
    "for i in tqdm(range(len(r_s))) :\n",
    "    r = r_s[i]\n",
    "    p1 = expectation(G,A,x0,10**(-6))\n",
    "    print(\" \")\n",
    "    p2 = expectation(Q,A,x0,10**(-6))\n",
    "    p_n_c.append(p1)\n",
    "    p_c.append(p2)\n",
    "plt.plot(r_s, p_n_c, label=\"Actifs non corrélés\", )\n",
    "plt.plot(r_s, p_c, label=\"Actifs corrélés\")\n",
    "plt.xlabel(\"r : taux d'actualisation\", fontsize=12)\n",
    "plt.ylabel(\"p : prix de l'option sur indice\", fontsize=12)\n",
    "plt.legend(fontsize=12)\n",
    "plt.title(\"Influence du facteur d'actualisation sur le prix de l'option\")\n",
    "plt.savefig(\"r.eps\", format='eps', dpi=1000)\n",
    "plt.show()"
   ]
  },
  {
   "cell_type": "markdown",
   "metadata": {},
   "source": [
    "## Calcul de l'influence de K"
   ]
  },
  {
   "cell_type": "code",
   "execution_count": 63,
   "metadata": {},
   "outputs": [
    {
     "name": "stderr",
     "output_type": "stream",
     "text": [
      "\r",
      "  0%|          | 0/20 [00:00<?, ?it/s]"
     ]
    },
    {
     "name": "stdout",
     "output_type": "stream",
     "text": [
      "\n",
      "Influence du Strike K :\n",
      "\n",
      "Norme du gradient : 6.32455532034\n",
      "Norme du gradient : 0.0\n",
      " \n",
      "Norme du gradient : 6.32455532034\n",
      "Norme du gradient : 0.0\n"
     ]
    },
    {
     "name": "stderr",
     "output_type": "stream",
     "text": [
      "\r",
      "  5%|▌         | 1/20 [00:02<00:41,  2.16s/it]"
     ]
    },
    {
     "name": "stdout",
     "output_type": "stream",
     "text": [
      "Norme du gradient : 6.32455532034\n",
      "Norme du gradient : 0.0\n",
      " \n",
      "Norme du gradient : 6.32455532034\n",
      "Norme du gradient : 0.0\n"
     ]
    },
    {
     "name": "stderr",
     "output_type": "stream",
     "text": [
      "\r",
      " 10%|█         | 2/20 [00:04<00:39,  2.18s/it]"
     ]
    },
    {
     "name": "stdout",
     "output_type": "stream",
     "text": [
      "Norme du gradient : 6.32455532034\n",
      "Norme du gradient : 0.0\n",
      " \n",
      "Norme du gradient : 6.32455532034\n",
      "Norme du gradient : 0.0\n"
     ]
    },
    {
     "name": "stderr",
     "output_type": "stream",
     "text": [
      "\r",
      " 15%|█▌        | 3/20 [00:06<00:36,  2.15s/it]"
     ]
    },
    {
     "name": "stdout",
     "output_type": "stream",
     "text": [
      "Norme du gradient : 6.32455532034\n",
      "Norme du gradient : 0.0\n",
      " \n",
      "Norme du gradient : 6.32455532034\n",
      "Norme du gradient : 0.0\n"
     ]
    },
    {
     "name": "stderr",
     "output_type": "stream",
     "text": [
      "\r",
      " 20%|██        | 4/20 [00:08<00:34,  2.16s/it]"
     ]
    },
    {
     "name": "stdout",
     "output_type": "stream",
     "text": [
      "Norme du gradient : 6.32455532034\n",
      "Norme du gradient : 0.0\n",
      " \n",
      "Norme du gradient : 6.32455532034\n",
      "Norme du gradient : 0.0\n"
     ]
    },
    {
     "name": "stderr",
     "output_type": "stream",
     "text": [
      "\r",
      " 25%|██▌       | 5/20 [00:10<00:32,  2.15s/it]"
     ]
    },
    {
     "name": "stdout",
     "output_type": "stream",
     "text": [
      "Norme du gradient : 6.32455532034\n",
      "Norme du gradient : 0.0\n",
      " \n",
      "Norme du gradient : 6.32455532034\n",
      "Norme du gradient : 0.0\n"
     ]
    },
    {
     "name": "stderr",
     "output_type": "stream",
     "text": [
      "\r",
      " 30%|███       | 6/20 [00:13<00:30,  2.20s/it]"
     ]
    },
    {
     "name": "stdout",
     "output_type": "stream",
     "text": [
      "Norme du gradient : 6.32455532034\n",
      "Norme du gradient : 0.0\n",
      " \n",
      "Norme du gradient : 10.3277320987\n",
      "Norme du gradient : 4.40720217624\n",
      "Norme du gradient : 0.0389745332938\n",
      "Norme du gradient : 0.00725321160992\n",
      "Norme du gradient : 0.00295061921871\n",
      "Norme du gradient : 0.00234650730359\n",
      "Norme du gradient : 0.0019965127294\n",
      "Norme du gradient : 0.00170028252028\n",
      "Norme du gradient : 0.00144858373043\n",
      "Norme du gradient : 0.00123414950887\n",
      "Norme du gradient : 0.00105151213602\n",
      "Norme du gradient : 0.000895933339663\n",
      "Norme du gradient : 0.000763397137957\n",
      "Norme du gradient : 0.000650484022582\n",
      "Norme du gradient : 0.000554284025038\n"
     ]
    },
    {
     "name": "stderr",
     "output_type": "stream",
     "text": [
      "\r",
      " 35%|███▌      | 7/20 [00:20<00:48,  3.76s/it]"
     ]
    },
    {
     "name": "stdout",
     "output_type": "stream",
     "text": [
      "Norme du gradient : 6.32455532034\n",
      "Norme du gradient : 0.0\n",
      " \n",
      "Norme du gradient : 10.2114259719\n",
      "Norme du gradient : 3.6527273884\n",
      "Norme du gradient : 1.09961469278\n",
      "Norme du gradient : 1.14969224214\n",
      "Norme du gradient : 1.72709804059\n",
      "Norme du gradient : 1.74537354017\n",
      "Norme du gradient : 1.69036716063\n",
      "Norme du gradient : 1.71678048082\n",
      "Norme du gradient : 1.69425158375\n",
      "Norme du gradient : 1.72046833746\n",
      "Norme du gradient : 1.69192483081\n",
      "Norme du gradient : 1.71857353522\n",
      "Norme du gradient : 1.6925197394\n",
      "Norme du gradient : 1.71908076255\n",
      "Norme du gradient : 1.69231035439\n"
     ]
    },
    {
     "name": "stderr",
     "output_type": "stream",
     "text": [
      "\r",
      " 40%|████      | 8/20 [00:28<01:00,  5.05s/it]"
     ]
    },
    {
     "name": "stdout",
     "output_type": "stream",
     "text": [
      "Norme du gradient : 10.1225371941\n",
      "Norme du gradient : 3.28754226636\n",
      "Norme du gradient : 0.842853702189\n",
      "Norme du gradient : 0.646263076519\n",
      "Norme du gradient : 0.434842943015\n",
      "Norme du gradient : 0.370333298494\n",
      "Norme du gradient : 0.282042477955\n",
      "Norme du gradient : 0.255186662241\n",
      "Norme du gradient : 0.205615992615\n",
      "Norme du gradient : 0.188894180249\n",
      "Norme du gradient : 0.155951024228\n",
      "Norme du gradient : 0.143656224113\n",
      "Norme du gradient : 0.120668164766\n",
      "Norme du gradient : 0.11093656396\n",
      "Norme du gradient : 0.0944534600717\n",
      " \n",
      "Norme du gradient : 10.1522762842\n",
      "Norme du gradient : 3.44664444039\n",
      "Norme du gradient : 2.76005962236\n",
      "Norme du gradient : 2.61711544181\n",
      "Norme du gradient : 2.73090377797\n",
      "Norme du gradient : 2.613440436\n",
      "Norme du gradient : 2.73063425287\n",
      "Norme du gradient : 2.61345323931\n",
      "Norme du gradient : 2.73064334691\n",
      "Norme du gradient : 2.61345223012\n",
      "Norme du gradient : 2.7306431842\n",
      "Norme du gradient : 2.61345221698\n",
      "Norme du gradient : 2.73064319\n",
      "Norme du gradient : 2.61345221571\n",
      "Norme du gradient : 2.73064318988\n"
     ]
    },
    {
     "name": "stderr",
     "output_type": "stream",
     "text": [
      "\r",
      " 45%|████▌     | 9/20 [00:41<01:21,  7.45s/it]"
     ]
    },
    {
     "name": "stdout",
     "output_type": "stream",
     "text": [
      "Norme du gradient : 9.65808977934\n",
      "Norme du gradient : 2.87343998885\n",
      "Norme du gradient : 2.50297205036\n",
      "Norme du gradient : 2.40726799391\n",
      "Norme du gradient : 2.38618540533\n",
      "Norme du gradient : 2.38570404374\n",
      "Norme du gradient : 2.38817853925\n",
      "Norme du gradient : 2.38472553964\n",
      "Norme du gradient : 2.38852296458\n",
      "Norme du gradient : 2.38469017554\n",
      "Norme du gradient : 2.38847814462\n",
      "Norme du gradient : 2.38468352842\n",
      "Norme du gradient : 2.3884902699\n",
      "Norme du gradient : 2.38468403225\n",
      "Norme du gradient : 2.388487927\n",
      " \n",
      "Norme du gradient : 10.1224933607\n",
      "Norme du gradient : 3.27446230366\n",
      "Norme du gradient : 2.10197637654\n",
      "Norme du gradient : 1.34554457405\n",
      "Norme du gradient : 1.41409389091\n",
      "Norme du gradient : 1.3882836287\n",
      "Norme du gradient : 1.44249553706\n",
      "Norme du gradient : 1.38668240954\n",
      "Norme du gradient : 1.44147356526\n",
      "Norme du gradient : 1.38674466753\n",
      "Norme du gradient : 1.4415132867\n",
      "Norme du gradient : 1.38674222559\n",
      "Norme du gradient : 1.44151172976\n",
      "Norme du gradient : 1.38674232168\n",
      "Norme du gradient : 1.44151179101\n"
     ]
    },
    {
     "name": "stderr",
     "output_type": "stream",
     "text": [
      "\r",
      " 50%|█████     | 10/20 [00:53<01:27,  8.72s/it]"
     ]
    },
    {
     "name": "stdout",
     "output_type": "stream",
     "text": [
      "Norme du gradient : 9.5616793365\n",
      "Norme du gradient : 2.30543916076\n",
      "Norme du gradient : 1.37287620924\n",
      "Norme du gradient : 0.115669725871\n",
      "Norme du gradient : 0.111193651549\n",
      "Norme du gradient : 0.131602859522\n",
      "Norme du gradient : 0.13193202507\n",
      "Norme du gradient : 0.131406113629\n",
      "Norme du gradient : 0.131786375899\n",
      "Norme du gradient : 0.131407652996\n",
      "Norme du gradient : 0.131787516494\n",
      "Norme du gradient : 0.131407640943\n",
      "Norme du gradient : 0.131787507563\n",
      "Norme du gradient : 0.131407641037\n",
      "Norme du gradient : 0.131787507633\n",
      " \n",
      "Norme du gradient : 10.1054047751\n",
      "Norme du gradient : 2.10778755943\n",
      "Norme du gradient : 0.231943664782\n",
      "Norme du gradient : 0.00167459663474\n",
      "Norme du gradient : 9.6341306876e-08\n"
     ]
    },
    {
     "name": "stderr",
     "output_type": "stream",
     "text": [
      "\r",
      " 55%|█████▌    | 11/20 [01:02<01:20,  8.93s/it]"
     ]
    },
    {
     "name": "stdout",
     "output_type": "stream",
     "text": [
      "Norme du gradient : 9.52089877545\n",
      "Norme du gradient : 1.91959929571\n",
      "Norme du gradient : 0.134720768454\n",
      "Norme du gradient : 0.00092282299961\n",
      "Norme du gradient : 6.03619862738e-08\n",
      " \n",
      "Norme du gradient : 10.094462271\n",
      "Norme du gradient : 2.48134300681\n",
      "Norme du gradient : 0.158932777338\n",
      "Norme du gradient : 0.000923933412903\n",
      "Norme du gradient : 3.36703119571e-08\n"
     ]
    },
    {
     "name": "stderr",
     "output_type": "stream",
     "text": [
      "\r",
      " 60%|██████    | 12/20 [01:07<01:01,  7.64s/it]"
     ]
    },
    {
     "name": "stdout",
     "output_type": "stream",
     "text": [
      "Norme du gradient : 9.49860402774\n",
      "Norme du gradient : 2.26879211691\n",
      "Norme du gradient : 0.173048670873\n",
      "Norme du gradient : 0.00112548785679\n",
      "Norme du gradient : 6.06128912681e-08\n",
      " \n",
      "Norme du gradient : 10.0868879283\n",
      "Norme du gradient : 2.97814733978\n",
      "Norme du gradient : 0.322139009025\n",
      "Norme du gradient : 0.004207882666\n",
      "Norme du gradient : 7.73895365438e-07\n"
     ]
    },
    {
     "name": "stderr",
     "output_type": "stream",
     "text": [
      "\r",
      " 65%|██████▌   | 13/20 [01:11<00:45,  6.56s/it]"
     ]
    },
    {
     "name": "stdout",
     "output_type": "stream",
     "text": [
      "Norme du gradient : 9.48460085891\n",
      "Norme du gradient : 2.6113694774\n",
      "Norme du gradient : 0.240170222561\n",
      "Norme du gradient : 0.00248571826473\n",
      "Norme du gradient : 3.13958389703e-07\n",
      " \n",
      "Norme du gradient : 10.081343825\n",
      "Norme du gradient : 3.44174035653\n",
      "Norme du gradient : 0.50614921902\n",
      "Norme du gradient : 0.00969805905842\n",
      "Norme du gradient : 4.11259264225e-06\n",
      "Norme du gradient : 7.40296733242e-13\n"
     ]
    },
    {
     "name": "stderr",
     "output_type": "stream",
     "text": [
      "\r",
      " 70%|███████   | 14/20 [01:16<00:36,  6.01s/it]"
     ]
    },
    {
     "name": "stdout",
     "output_type": "stream",
     "text": [
      "Norme du gradient : 9.4750030779\n",
      "Norme du gradient : 2.96870505208\n",
      "Norme du gradient : 0.31267143339\n",
      "Norme du gradient : 0.00381197928392\n",
      "Norme du gradient : 7.02844410246e-07\n",
      " \n",
      "Norme du gradient : 10.0771137753\n",
      "Norme du gradient : 3.8956390926\n",
      "Norme du gradient : 0.699133359226\n",
      "Norme du gradient : 0.0143539224712\n",
      "Norme du gradient : 7.88397646122e-06\n",
      "Norme du gradient : 2.38916891389e-12\n"
     ]
    },
    {
     "name": "stderr",
     "output_type": "stream",
     "text": [
      "\r",
      " 75%|███████▌  | 15/20 [01:22<00:30,  6.17s/it]"
     ]
    },
    {
     "name": "stdout",
     "output_type": "stream",
     "text": [
      "Norme du gradient : 9.46801900703\n",
      "Norme du gradient : 3.30776610427\n",
      "Norme du gradient : 0.400485881419\n",
      "Norme du gradient : 0.00456359068258\n",
      "Norme du gradient : 8.58744631639e-07\n",
      " \n",
      "Norme du gradient : 10.0737816566\n",
      "Norme du gradient : 4.32055133939\n",
      "Norme du gradient : 0.880093689132\n",
      "Norme du gradient : 0.016382886804\n",
      "Norme du gradient : 8.34675348314e-06\n",
      "Norme du gradient : 2.19861296299e-12\n"
     ]
    },
    {
     "name": "stderr",
     "output_type": "stream",
     "text": [
      "\r",
      " 80%|████████  | 16/20 [01:27<00:23,  5.83s/it]"
     ]
    },
    {
     "name": "stdout",
     "output_type": "stream",
     "text": [
      "Norme du gradient : 9.46271077018\n",
      "Norme du gradient : 3.5875406199\n",
      "Norme du gradient : 0.468991812967\n",
      "Norme du gradient : 0.00512157244473\n",
      "Norme du gradient : 9.82166686e-07\n",
      " \n",
      "Norme du gradient : 10.0710897387\n",
      "Norme du gradient : 4.71335535639\n",
      "Norme du gradient : 1.0084896251\n",
      "Norme du gradient : 0.0151132800431\n",
      "Norme du gradient : 5.38216042954e-06\n",
      "Norme du gradient : 7.28658452142e-13\n"
     ]
    },
    {
     "name": "stderr",
     "output_type": "stream",
     "text": [
      "\r",
      " 85%|████████▌ | 17/20 [01:32<00:16,  5.51s/it]"
     ]
    },
    {
     "name": "stdout",
     "output_type": "stream",
     "text": [
      "Norme du gradient : 9.45854062808\n",
      "Norme du gradient : 3.83372263363\n",
      "Norme du gradient : 0.473460969204\n",
      "Norme du gradient : 0.00579921989322\n",
      "Norme du gradient : 1.28657447226e-06\n",
      "Norme du gradient : 7.28524464688e-14\n",
      " \n",
      "Norme du gradient : 10.0688700787\n",
      "Norme du gradient : 5.05770008571\n",
      "Norme du gradient : 1.08414073175\n",
      "Norme du gradient : 0.0130752900948\n",
      "Norme du gradient : 2.65127933381e-06\n",
      "Norme du gradient : 1.35857233166e-13\n"
     ]
    },
    {
     "name": "stderr",
     "output_type": "stream",
     "text": [
      "\r",
      " 90%|█████████ | 18/20 [01:40<00:12,  6.12s/it]"
     ]
    },
    {
     "name": "stdout",
     "output_type": "stream",
     "text": [
      "Norme du gradient : 9.45517841124\n",
      "Norme du gradient : 4.01209267248\n",
      "Norme du gradient : 0.538561684752\n",
      "Norme du gradient : 0.00767500102346\n",
      "Norme du gradient : 2.1424237671e-06\n",
      "Norme du gradient : 1.94710509644e-13\n",
      " \n",
      "Norme du gradient : 10.0670086385\n",
      "Norme du gradient : 5.38169002458\n",
      "Norme du gradient : 1.05916681486\n",
      "Norme du gradient : 0.0111638728409\n",
      "Norme du gradient : 1.64911471072e-06\n",
      "Norme du gradient : 4.26286719927e-14\n"
     ]
    },
    {
     "name": "stderr",
     "output_type": "stream",
     "text": [
      "\r",
      " 95%|█████████▌| 19/20 [01:46<00:06,  6.23s/it]"
     ]
    },
    {
     "name": "stdout",
     "output_type": "stream",
     "text": [
      "Norme du gradient : 9.45241028015\n",
      "Norme du gradient : 4.13339316431\n",
      "Norme du gradient : 0.618427168682\n",
      "Norme du gradient : 0.0101385424943\n",
      "Norme du gradient : 3.41734193837e-06\n",
      "Norme du gradient : 4.74606740102e-13\n",
      " \n",
      "Norme du gradient : 10.0654253028\n",
      "Norme du gradient : 5.63768062618\n",
      "Norme du gradient : 1.27788874169\n",
      "Norme du gradient : 0.0146040259006\n",
      "Norme du gradient : 1.7204271805e-06\n",
      "Norme du gradient : 3.86080833136e-14\n"
     ]
    },
    {
     "name": "stderr",
     "output_type": "stream",
     "text": [
      "100%|██████████| 20/20 [01:53<00:00,  6.57s/it]\n"
     ]
    },
    {
     "data": {
      "image/png": "[encoded data removed]",
      "text/plain": [
       "<matplotlib.figure.Figure at 0x7fc3b178bef0>"
      ]
     },
     "metadata": {},
     "output_type": "display_data"
    }
   ],
   "source": [
    "## Courbe d'influence de K :\n",
    "\n",
    "print(\"\\nInfluence du Strike K :\\n\")\n",
    "\n",
    "plt.figure()\n",
    "r = 0.05\n",
    "K_s = np.linspace(0.8*S0, 1.2*S0,20)\n",
    "p_n_c = []\n",
    "p_c = []\n",
    "for i in tqdm(range(len(K_s))) :\n",
    "    K = K_s[i]\n",
    "    p1 = expectation(G,A,x0,10**(-6))\n",
    "    print(\" \")\n",
    "    p2 = expectation(Q,A,x0,10**(-6))\n",
    "    p_n_c.append(p1)\n",
    "    p_c.append(p2)\n",
    "plt.plot(K_s, p_n_c, label=\"Actifs non corrélés\", )\n",
    "plt.plot(K_s, p_c, label=\"Actifs corrélés\")\n",
    "plt.xlabel(\"K : Strike\", fontsize=12)\n",
    "plt.ylabel(\"p : prix de l'option sur indice\", fontsize=12)\n",
    "plt.legend(fontsize=12)\n",
    "plt.title(\"Influence du strike sur le prix de l'option\")\n",
    "plt.savefig('K.eps', format='eps', dpi=1000)\n",
    "plt.show()"
   ]
  },
  {
   "cell_type": "markdown",
   "metadata": {},
   "source": [
    "## Calcul de l'influence de sigmas :"
   ]
  },
  {
   "cell_type": "code",
   "execution_count": 64,
   "metadata": {},
   "outputs": [
    {
     "name": "stderr",
     "output_type": "stream",
     "text": [
      "\r",
      "  0%|          | 0/20 [00:00<?, ?it/s]"
     ]
    },
    {
     "name": "stdout",
     "output_type": "stream",
     "text": [
      "\n",
      "Influence de sigma :\n",
      "\n",
      "Norme du gradient : 9.42388359535\n",
      "Norme du gradient : 4.53629313974\n",
      "Norme du gradient : 1.18332633084\n",
      "Norme du gradient : 0.0342853560484\n",
      "Norme du gradient : 2.93364989185e-05\n",
      "Norme du gradient : 2.7931188491e-11\n",
      " \n",
      "Norme du gradient : 10.0458496976\n",
      "Norme du gradient : 6.21363409148\n",
      "Norme du gradient : 2.83164286593\n",
      "Norme du gradient : 0.164316353441\n",
      "Norme du gradient : 0.000237912401242\n",
      "Norme du gradient : 6.86763376336e-10\n"
     ]
    },
    {
     "name": "stderr",
     "output_type": "stream",
     "text": [
      "\r",
      "  5%|▌         | 1/20 [00:06<02:08,  6.76s/it]"
     ]
    },
    {
     "name": "stdout",
     "output_type": "stream",
     "text": [
      "Norme du gradient : 9.4519335828\n",
      "Norme du gradient : 4.28487803436\n",
      "Norme du gradient : 0.793307392397\n",
      "Norme du gradient : 0.0157416331446\n",
      "Norme du gradient : 7.44930438219e-06\n",
      "Norme du gradient : 2.1086529918e-12\n",
      " \n",
      "Norme du gradient : 10.0667121868\n",
      "Norme du gradient : 5.85280481991\n",
      "Norme du gradient : 1.66184131003\n",
      "Norme du gradient : 0.0284863037757\n",
      "Norme du gradient : 3.39284705526e-06\n",
      "Norme du gradient : 7.14798187562e-14\n"
     ]
    },
    {
     "name": "stderr",
     "output_type": "stream",
     "text": [
      "\r",
      " 10%|█         | 2/20 [00:12<01:58,  6.56s/it]"
     ]
    },
    {
     "name": "stdout",
     "output_type": "stream",
     "text": [
      "Norme du gradient : 9.46401830095\n",
      "Norme du gradient : 3.69162663671\n",
      "Norme du gradient : 0.494728288438\n",
      "Norme du gradient : 0.00586116144008\n",
      "Norme du gradient : 1.27686304771e-06\n",
      "Norme du gradient : 7.20193213532e-14\n",
      " \n",
      "Norme du gradient : 10.0735294373\n",
      "Norme du gradient : 4.72223814614\n",
      "Norme du gradient : 1.0073099086\n",
      "Norme du gradient : 0.0149483899675\n",
      "Norme du gradient : 5.2193500151e-06\n",
      "Norme du gradient : 6.81576393898e-13\n"
     ]
    },
    {
     "name": "stderr",
     "output_type": "stream",
     "text": [
      "\r",
      " 15%|█▌        | 3/20 [00:18<01:45,  6.22s/it]"
     ]
    },
    {
     "name": "stdout",
     "output_type": "stream",
     "text": [
      "Norme du gradient : 9.47019025627\n",
      "Norme du gradient : 3.27109060732\n",
      "Norme du gradient : 0.392964108044\n",
      "Norme du gradient : 0.00455763355825\n",
      "Norme du gradient : 8.67636798098e-07\n",
      " \n",
      "Norme du gradient : 10.0758210077\n",
      "Norme du gradient : 4.20023840545\n",
      "Norme du gradient : 0.834887090937\n",
      "Norme du gradient : 0.0161660417556\n",
      "Norme du gradient : 8.67102884569e-06\n",
      "Norme du gradient : 2.52155880487e-12\n"
     ]
    },
    {
     "name": "stderr",
     "output_type": "stream",
     "text": [
      "\r",
      " 20%|██        | 4/20 [00:23<01:36,  6.01s/it]"
     ]
    },
    {
     "name": "stdout",
     "output_type": "stream",
     "text": [
      "Norme du gradient : 9.47359392341\n",
      "Norme du gradient : 3.01708290131\n",
      "Norme du gradient : 0.322373970283\n",
      "Norme du gradient : 0.00390438854876\n",
      "Norme du gradient : 7.27258101436e-07\n",
      " \n",
      "Norme du gradient : 10.0761858976\n",
      "Norme du gradient : 3.9714224259\n",
      "Norme du gradient : 0.736044384647\n",
      "Norme du gradient : 0.015053875392\n",
      "Norme du gradient : 8.39597230772e-06\n",
      "Norme du gradient : 2.62636767313e-12\n"
     ]
    },
    {
     "name": "stderr",
     "output_type": "stream",
     "text": [
      "\r",
      " 25%|██▌       | 5/20 [00:29<01:28,  5.90s/it]"
     ]
    },
    {
     "name": "stdout",
     "output_type": "stream",
     "text": [
      "Norme du gradient : 9.47554586357\n",
      "Norme du gradient : 2.86134448576\n",
      "Norme du gradient : 0.293531519451\n",
      "Norme du gradient : 0.00362455433792\n",
      "Norme du gradient : 6.57505291594e-07\n",
      " \n",
      "Norme du gradient : 10.0756131187\n",
      "Norme du gradient : 3.8692994268\n",
      "Norme du gradient : 0.685294202558\n",
      "Norme du gradient : 0.0140661250928\n",
      "Norme du gradient : 7.65156360889e-06\n",
      "Norme du gradient : 2.27349957093e-12\n"
     ]
    },
    {
     "name": "stderr",
     "output_type": "stream",
     "text": [
      "\r",
      " 30%|███       | 6/20 [00:36<01:27,  6.23s/it]"
     ]
    },
    {
     "name": "stdout",
     "output_type": "stream",
     "text": [
      "Norme du gradient : 9.47670837247\n",
      "Norme du gradient : 2.76832577895\n",
      "Norme du gradient : 0.273919713259\n",
      "Norme du gradient : 0.00327087488322\n",
      "Norme du gradient : 5.48268511187e-07\n",
      " \n",
      "Norme du gradient : 10.0745556161\n",
      "Norme du gradient : 3.83145339795\n",
      "Norme du gradient : 0.667419502996\n",
      "Norme du gradient : 0.0137047010677\n",
      "Norme du gradient : 7.37115177342e-06\n",
      "Norme du gradient : 2.14020858504e-12\n"
     ]
    },
    {
     "name": "stderr",
     "output_type": "stream",
     "text": [
      "\r",
      " 35%|███▌      | 7/20 [00:43<01:25,  6.61s/it]"
     ]
    },
    {
     "name": "stdout",
     "output_type": "stream",
     "text": [
      "Norme du gradient : 9.47746123021\n",
      "Norme du gradient : 2.71031368111\n",
      "Norme du gradient : 0.261162438129\n",
      "Norme du gradient : 0.00298748339629\n",
      "Norme du gradient : 4.62593307952e-07\n",
      " \n",
      "Norme du gradient : 10.073246557\n",
      "Norme du gradient : 3.8322505311\n",
      "Norme du gradient : 0.666449275283\n",
      "Norme du gradient : 0.01367486796\n",
      "Norme du gradient : 7.33602680714e-06\n",
      "Norme du gradient : 2.11894521242e-12\n"
     ]
    },
    {
     "name": "stderr",
     "output_type": "stream",
     "text": [
      "\r",
      " 40%|████      | 8/20 [00:49<01:16,  6.36s/it]"
     ]
    },
    {
     "name": "stdout",
     "output_type": "stream",
     "text": [
      "Norme du gradient : 9.47804480712\n",
      "Norme du gradient : 2.67469884788\n",
      "Norme du gradient : 0.25403083481\n",
      "Norme du gradient : 0.00281391789926\n",
      "Norme du gradient : 4.13719908821e-07\n",
      " \n",
      "Norme du gradient : 10.0718157072\n",
      "Norme du gradient : 3.85747627225\n",
      "Norme du gradient : 0.675851644063\n",
      "Norme du gradient : 0.0138461564287\n",
      "Norme du gradient : 7.44782783527e-06\n",
      "Norme du gradient : 2.16334349255e-12\n"
     ]
    },
    {
     "name": "stderr",
     "output_type": "stream",
     "text": [
      "\r",
      " 45%|████▌     | 9/20 [00:54<01:05,  5.96s/it]"
     ]
    },
    {
     "name": "stdout",
     "output_type": "stream",
     "text": [
      "Norme du gradient : 9.47862293805\n",
      "Norme du gradient : 2.65481001666\n",
      "Norme du gradient : 0.250308392454\n",
      "Norme du gradient : 0.00271892189753\n",
      "Norme du gradient : 3.89349317256e-07\n",
      " \n",
      "Norme du gradient : 10.070339179\n",
      "Norme du gradient : 3.89899142033\n",
      "Norme du gradient : 0.692176317954\n",
      "Norme du gradient : 0.0141353636264\n",
      "Norme du gradient : 7.63540673289e-06\n",
      "Norme du gradient : 2.23749989445e-12\n"
     ]
    },
    {
     "name": "stderr",
     "output_type": "stream",
     "text": [
      "\r",
      " 50%|█████     | 10/20 [01:00<00:57,  5.76s/it]"
     ]
    },
    {
     "name": "stdout",
     "output_type": "stream",
     "text": [
      "Norme du gradient : 9.47931326352\n",
      "Norme du gradient : 2.64682094824\n",
      "Norme du gradient : 0.248764598708\n",
      "Norme du gradient : 0.00267847444841\n",
      "Norme du gradient : 3.80973853042e-07\n",
      " \n",
      "Norme du gradient : 10.0688631398\n",
      "Norme du gradient : 3.95180668457\n",
      "Norme du gradient : 0.713257177436\n",
      "Norme du gradient : 0.0144853753886\n",
      "Norme du gradient : 7.84600549347e-06\n",
      "Norme du gradient : 2.31340326303e-12\n"
     ]
    },
    {
     "name": "stderr",
     "output_type": "stream",
     "text": [
      "\r",
      " 55%|█████▌    | 11/20 [01:05<00:51,  5.71s/it]"
     ]
    },
    {
     "name": "stdout",
     "output_type": "stream",
     "text": [
      "Norme du gradient : 9.48020275784\n",
      "Norme du gradient : 2.64792544722\n",
      "Norme du gradient : 0.249131335324\n",
      "Norme du gradient : 0.00268882600023\n",
      "Norme du gradient : 3.87444397669e-07\n",
      " \n",
      "Norme du gradient : 10.067416084\n",
      "Norme du gradient : 4.01200974611\n",
      "Norme du gradient : 0.739161856742\n",
      "Norme du gradient : 0.0149199169158\n",
      "Norme du gradient : 8.11280819322e-06\n",
      "Norme du gradient : 2.41292258104e-12\n"
     ]
    },
    {
     "name": "stderr",
     "output_type": "stream",
     "text": [
      "\r",
      " 60%|██████    | 12/20 [01:11<00:46,  5.87s/it]"
     ]
    },
    {
     "name": "stdout",
     "output_type": "stream",
     "text": [
      "Norme du gradient : 9.48135596916\n",
      "Norme du gradient : 2.65641096665\n",
      "Norme du gradient : 0.251173902743\n",
      "Norme du gradient : 0.0027397595189\n",
      "Norme du gradient : 4.05816297261e-07\n",
      " \n",
      "Norme du gradient : 10.0660156122\n",
      "Norme du gradient : 4.07724048962\n",
      "Norme du gradient : 0.769034583474\n",
      "Norme du gradient : 0.0154222361267\n",
      "Norme du gradient : 8.42149191837e-06\n",
      "Norme du gradient : 2.52891905746e-12\n"
     ]
    },
    {
     "name": "stderr",
     "output_type": "stream",
     "text": [
      "\r",
      " 65%|██████▌   | 13/20 [01:16<00:38,  5.55s/it]"
     ]
    },
    {
     "name": "stdout",
     "output_type": "stream",
     "text": [
      "Norme du gradient : 9.48281951414\n",
      "Norme du gradient : 2.67072218933\n",
      "Norme du gradient : 0.254955014538\n",
      "Norme du gradient : 0.00282704511095\n",
      "Norme du gradient : 4.35353744952e-07\n",
      " \n",
      "Norme du gradient : 10.0646723766\n",
      "Norme du gradient : 4.14616827803\n",
      "Norme du gradient : 0.800546704221\n",
      "Norme du gradient : 0.0159341645526\n",
      "Norme du gradient : 8.70963395145e-06\n",
      "Norme du gradient : 2.62406185063e-12\n"
     ]
    },
    {
     "name": "stderr",
     "output_type": "stream",
     "text": [
      "\r",
      " 70%|███████   | 14/20 [01:23<00:35,  5.89s/it]"
     ]
    },
    {
     "name": "stdout",
     "output_type": "stream",
     "text": [
      "Norme du gradient : 9.48462445879\n",
      "Norme du gradient : 2.68955950168\n",
      "Norme du gradient : 0.260521162152\n",
      "Norme du gradient : 0.00295003192366\n",
      "Norme du gradient : 4.76827004584e-07\n",
      " \n",
      "Norme du gradient : 10.0633924789\n",
      "Norme du gradient : 4.21905491865\n",
      "Norme du gradient : 0.829406005117\n",
      "Norme du gradient : 0.0163014565205\n",
      "Norme du gradient : 8.80402390845e-06\n",
      "Norme du gradient : 2.59303316167e-12\n"
     ]
    },
    {
     "name": "stderr",
     "output_type": "stream",
     "text": [
      "\r",
      " 75%|███████▌  | 15/20 [01:28<00:28,  5.62s/it]"
     ]
    },
    {
     "name": "stdout",
     "output_type": "stream",
     "text": [
      "Norme du gradient : 9.4867874218\n",
      "Norme du gradient : 2.71178115678\n",
      "Norme du gradient : 0.267844883737\n",
      "Norme du gradient : 0.00310914518619\n",
      "Norme du gradient : 5.3179179027e-07\n",
      " \n",
      "Norme du gradient : 10.0621789804\n",
      "Norme du gradient : 4.294329947\n",
      "Norme du gradient : 0.857940030198\n",
      "Norme du gradient : 0.0165920082713\n",
      "Norme du gradient : 8.7886447762e-06\n",
      "Norme du gradient : 2.49319301033e-12\n"
     ]
    },
    {
     "name": "stderr",
     "output_type": "stream",
     "text": [
      "\r",
      " 80%|████████  | 16/20 [01:33<00:21,  5.45s/it]"
     ]
    },
    {
     "name": "stdout",
     "output_type": "stream",
     "text": [
      "Norme du gradient : 9.48931097081\n",
      "Norme du gradient : 2.7365966475\n",
      "Norme du gradient : 0.276959218383\n",
      "Norme du gradient : 0.00331085798572\n",
      "Norme du gradient : 6.04712611253e-07\n",
      " \n",
      "Norme du gradient : 10.0610328832\n",
      "Norme du gradient : 4.37027396589\n",
      "Norme du gradient : 0.888249620374\n",
      "Norme du gradient : 0.0168178254623\n",
      "Norme du gradient : 8.68164000896e-06\n",
      "Norme du gradient : 2.34407890537e-12\n"
     ]
    },
    {
     "name": "stderr",
     "output_type": "stream",
     "text": [
      "\r",
      " 85%|████████▌ | 17/20 [01:39<00:17,  5.71s/it]"
     ]
    },
    {
     "name": "stdout",
     "output_type": "stream",
     "text": [
      "Norme du gradient : 9.49218387531\n",
      "Norme du gradient : 2.76344745345\n",
      "Norme du gradient : 0.287548946943\n",
      "Norme du gradient : 0.0035484283759\n",
      "Norme du gradient : 6.95431957571e-07\n",
      " \n",
      "Norme du gradient : 10.0599537842\n",
      "Norme du gradient : 4.44771390669\n",
      "Norme du gradient : 0.916750504809\n",
      "Norme du gradient : 0.0168341781723\n",
      "Norme du gradient : 8.33575116213e-06\n",
      "Norme du gradient : 2.07827403212e-12\n"
     ]
    },
    {
     "name": "stderr",
     "output_type": "stream",
     "text": [
      "\r",
      " 90%|█████████ | 18/20 [01:44<00:10,  5.36s/it]"
     ]
    },
    {
     "name": "stdout",
     "output_type": "stream",
     "text": [
      "Norme du gradient : 9.49538425204\n",
      "Norme du gradient : 2.79352656991\n",
      "Norme du gradient : 0.297444441908\n",
      "Norme du gradient : 0.00372498757513\n",
      "Norme du gradient : 7.62009767852e-07\n",
      " \n",
      "Norme du gradient : 10.0589403204\n",
      "Norme du gradient : 4.52564647535\n",
      "Norme du gradient : 0.946382033266\n",
      "Norme du gradient : 0.0168055352512\n",
      "Norme du gradient : 7.93401568394e-06\n",
      "Norme du gradient : 1.80718610586e-12\n"
     ]
    },
    {
     "name": "stderr",
     "output_type": "stream",
     "text": [
      "\r",
      " 95%|█████████▌| 19/20 [01:51<00:05,  5.80s/it]"
     ]
    },
    {
     "name": "stdout",
     "output_type": "stream",
     "text": [
      "Norme du gradient : 9.49888037478\n",
      "Norme du gradient : 2.82647284705\n",
      "Norme du gradient : 0.307505506923\n",
      "Norme du gradient : 0.00385462985818\n",
      "Norme du gradient : 8.04906548971e-07\n",
      " \n",
      "Norme du gradient : 10.0579904795\n",
      "Norme du gradient : 4.60340393783\n",
      "Norme du gradient : 0.974183498475\n",
      "Norme du gradient : 0.0166475515386\n",
      "Norme du gradient : 7.4138023311e-06\n",
      "Norme du gradient : 1.51243208899e-12\n"
     ]
    },
    {
     "name": "stderr",
     "output_type": "stream",
     "text": [
      "100%|██████████| 20/20 [01:55<00:00,  5.42s/it]\n"
     ]
    },
    {
     "data": {
      "image/png": "[encoded data removed]",
      "text/plain": [
       "<matplotlib.figure.Figure at 0x7fc3b1420c88>"
      ]
     },
     "metadata": {},
     "output_type": "display_data"
    }
   ],
   "source": [
    "## Courbe d'influence de sigams :\n",
    "\n",
    "print(\"\\nInfluence de sigma :\\n\")\n",
    "\n",
    "plt.figure()\n",
    "r = 0.05\n",
    "K = 55\n",
    "sigma_s = np.linspace(0, 1,20)\n",
    "p_n_c = []\n",
    "p_c = []\n",
    "for i in tqdm(range(len(K_s))) :\n",
    "    sigma = sigma_s[i]\n",
    "    sigmas = np.array([[sigma] for i in range(d)])\n",
    "    p1 = expectation(G,A,x0,10**(-6))\n",
    "    print(\" \")\n",
    "    p2 = expectation(Q,A,x0,10**(-6))\n",
    "    p_n_c.append(p1)\n",
    "    p_c.append(p2)\n",
    "plt.plot(sigma_s, p_n_c, label=\"Actifs non corrélés\", )\n",
    "plt.plot(sigma_s, p_c, label=\"Actifs corrélés\")\n",
    "plt.xlabel(\"sigma \", fontsize=12)\n",
    "plt.ylabel(\"p : prix de l'option sur indice\", fontsize=12)\n",
    "plt.legend(fontsize=12)\n",
    "plt.title(\"Influence du facteur sigma dans les processus de BS sur le prix de l'option\")\n",
    "plt.savefig('sigma.eps', format='eps', dpi=1000)\n",
    "plt.show()"
   ]
  },
  {
   "cell_type": "markdown",
   "metadata": {},
   "source": [
    "## Calcul de l'influence du nombre d'actifs"
   ]
  },
  {
   "cell_type": "code",
   "execution_count": 15,
   "metadata": {
    "scrolled": true
   },
   "outputs": [
    {
     "name": "stderr",
     "output_type": "stream",
     "text": [
      "\n",
      "\r",
      "  0%|          | 0/20 [00:00<?, ?it/s]"
     ]
    },
    {
     "name": "stdout",
     "output_type": "stream",
     "text": [
      "\n",
      "Influence du nombre d'actifs :\n",
      "\n"
     ]
    },
    {
     "name": "stderr",
     "output_type": "stream",
     "text": [
      "\u001b[A"
     ]
    },
    {
     "name": "stdout",
     "output_type": "stream",
     "text": [
      "Norme du gradient : 2.88000008217\n",
      "Norme du gradient : 0.22216333967\n",
      "Norme du gradient : 0.00162439451342\n",
      "Norme du gradient : 8.65554602436e-08\n",
      " \n",
      "Norme du gradient : 10.0088701945\n",
      "Norme du gradient : 0.0331239512224\n",
      "Norme du gradient : 0.000127030441891\n",
      "Norme du gradient : 1.86846293992e-09\n"
     ]
    },
    {
     "name": "stderr",
     "output_type": "stream",
     "text": [
      "\n",
      "  5%|▌         | 1/20 [00:05<01:45,  5.55s/it]\u001b[A"
     ]
    },
    {
     "name": "stdout",
     "output_type": "stream",
     "text": [
      "Norme du gradient : 5.48664623558\n"
     ]
    },
    {
     "name": "stderr",
     "output_type": "stream",
     "text": [
      "\n"
     ]
    },
    {
     "name": "stdout",
     "output_type": "stream",
     "text": [
      "Norme du gradient : 0.830133883109\n",
      "Norme du gradient : 0.00705004465445\n",
      "Norme du gradient : 1.10515445339e-06\n",
      "Norme du gradient : 4.39223718754e-14\n",
      " \n",
      "Norme du gradient : 14.748937149\n",
      "Norme du gradient : 9.94799106669\n",
      "Norme du gradient : 4.92453038267\n",
      "Norme du gradient : 1.46373639475\n",
      "Norme du gradient : 0.224306400029\n",
      "Norme du gradient : 0.00613496926367\n",
      "Norme du gradient : 4.66382420526e-06\n",
      "Norme du gradient : 2.69613542393e-12\n"
     ]
    },
    {
     "name": "stderr",
     "output_type": "stream",
     "text": [
      "\r",
      " 10%|█         | 2/20 [00:16<02:06,  7.04s/it]"
     ]
    },
    {
     "name": "stdout",
     "output_type": "stream",
     "text": [
      "Norme du gradient : 6.2649452217\n",
      "Norme du gradient : 1.31774221206\n",
      "Norme du gradient : 0.0486469273974\n",
      "Norme du gradient : 8.39541904567e-05\n",
      "Norme du gradient : 2.56725604453e-10\n",
      " \n",
      "Norme du gradient : 14.0000592331\n",
      "Norme du gradient : 9.60754651813\n",
      "Norme du gradient : 6.12374230861\n",
      "Norme du gradient : 1.49822754376\n",
      "Norme du gradient : 0.215921088126\n",
      "Norme du gradient : 0.00567100427785\n",
      "Norme du gradient : 4.04933556367e-06\n",
      "Norme du gradient : 2.06642480967e-12\n"
     ]
    },
    {
     "name": "stderr",
     "output_type": "stream",
     "text": [
      "\r",
      " 15%|█▌        | 3/20 [00:31<02:41,  9.50s/it]"
     ]
    },
    {
     "name": "stdout",
     "output_type": "stream",
     "text": [
      "Norme du gradient : 7.85401119238\n",
      "Norme du gradient : 2.48397399482\n",
      "Norme du gradient : 0.206737053875\n",
      "Norme du gradient : 0.0015458065159\n",
      "Norme du gradient : 9.01111909778e-08\n",
      " \n",
      "Norme du gradient : 14.711081427\n",
      "Norme du gradient : 10.6340888414\n",
      "Norme du gradient : 7.60557716059\n",
      "Norme du gradient : 0.670642469547\n",
      "Norme du gradient : 0.0468914536784\n",
      "Norme du gradient : 0.000276390389683\n",
      "Norme du gradient : 9.67281210096e-09\n"
     ]
    },
    {
     "name": "stderr",
     "output_type": "stream",
     "text": [
      "\r",
      " 20%|██        | 4/20 [00:44<02:50, 10.64s/it]"
     ]
    },
    {
     "name": "stdout",
     "output_type": "stream",
     "text": [
      "Norme du gradient : 8.07512532895\n",
      "Norme du gradient : 2.71939936266\n",
      "Norme du gradient : 0.246076027322\n",
      "Norme du gradient : 0.00190523401526\n",
      "Norme du gradient : 1.22221097765e-07\n",
      " \n",
      "Norme du gradient : 16.5344370077\n",
      "Norme du gradient : 13.0504494444\n",
      "Norme du gradient : 10.2472745775\n",
      "Norme du gradient : 0.845865360008\n",
      "Norme du gradient : 0.00087538532982\n",
      "Norme du gradient : 8.65665306268e-08\n"
     ]
    },
    {
     "name": "stderr",
     "output_type": "stream",
     "text": [
      "\r",
      " 25%|██▌       | 5/20 [01:02<03:12, 12.85s/it]"
     ]
    },
    {
     "name": "stdout",
     "output_type": "stream",
     "text": [
      "Norme du gradient : 10.041821377\n",
      "Norme du gradient : 5.81396904454\n",
      "Norme du gradient : 1.09571937361\n",
      "Norme du gradient : 0.0444639791064\n",
      "Norme du gradient : 6.4641138393e-05\n",
      "Norme du gradient : 1.47785428518e-10\n",
      " \n",
      "Norme du gradient : 16.2949843578\n",
      "Norme du gradient : 12.0577590861\n",
      "Norme du gradient : 10.1920258126\n",
      "Norme du gradient : 1.36825894891\n",
      "Norme du gradient : 0.242298814043\n",
      "Norme du gradient : 0.00720123779632\n",
      "Norme du gradient : 6.70781811871e-06\n",
      "Norme du gradient : 5.82909014085e-12\n"
     ]
    },
    {
     "name": "stderr",
     "output_type": "stream",
     "text": [
      "\r",
      " 30%|███       | 6/20 [01:25<03:41, 15.82s/it]"
     ]
    },
    {
     "name": "stdout",
     "output_type": "stream",
     "text": [
      "Norme du gradient : 9.99734900262\n",
      "Norme du gradient : 3.92947182407\n",
      "Norme du gradient : 0.45924991073\n",
      "Norme du gradient : 0.00676043518739\n",
      "Norme du gradient : 1.59673724714e-06\n",
      "Norme du gradient : 9.28730291984e-14\n",
      " \n",
      "Norme du gradient : 16.5067802366\n",
      "Norme du gradient : 11.9830929002\n",
      "Norme du gradient : 10.315293781\n",
      "Norme du gradient : 2.36491895324\n",
      "Norme du gradient : 0.92604316525\n",
      "Norme du gradient : 0.0845812022816\n",
      "Norme du gradient : 0.000845730469828\n",
      "Norme du gradient : 8.60713907543e-08\n"
     ]
    },
    {
     "name": "stderr",
     "output_type": "stream",
     "text": [
      "\r",
      " 35%|███▌      | 7/20 [01:49<03:56, 18.19s/it]"
     ]
    },
    {
     "name": "stdout",
     "output_type": "stream",
     "text": [
      "Norme du gradient : 9.50996753324\n",
      "Norme du gradient : 3.41044065456\n",
      "Norme du gradient : 0.400403698005\n",
      "Norme du gradient : 0.00475241982895\n",
      "Norme du gradient : 7.32026343194e-07\n",
      " \n",
      "Norme du gradient : 19.28898122\n",
      "Norme du gradient : 14.9510870324\n",
      "Norme du gradient : 14.3769633331\n",
      "Norme du gradient : 6.85644508651\n",
      "Norme du gradient : 10.0467589476\n",
      "Norme du gradient : 2.39354680042\n",
      "Norme du gradient : 0.38083399816\n",
      "Norme du gradient : 0.0163430443637\n",
      "Norme du gradient : 3.27075175359e-05\n",
      "Norme du gradient : 1.31483861749e-10\n"
     ]
    },
    {
     "name": "stderr",
     "output_type": "stream",
     "text": [
      "\r",
      " 40%|████      | 8/20 [02:21<04:29, 22.42s/it]"
     ]
    },
    {
     "name": "stdout",
     "output_type": "stream",
     "text": [
      "Norme du gradient : 10.508776808\n",
      "Norme du gradient : 3.74467685458\n",
      "Norme du gradient : 0.471746878334\n",
      "Norme du gradient : 0.00679221680428\n",
      "Norme du gradient : 1.52312333168e-06\n",
      "Norme du gradient : 8.01244748456e-14\n",
      " \n",
      "Norme du gradient : 17.636385807\n",
      "Norme du gradient : 12.8142888958\n",
      "Norme du gradient : 11.8383402384\n",
      "Norme du gradient : 4.7895888645\n",
      "Norme du gradient : 5.31807513824\n",
      "Norme du gradient : 1.06180980877\n",
      "Norme du gradient : 0.105679632359\n",
      "Norme du gradient : 0.0013044330651\n",
      "Norme du gradient : 2.03328772891e-07\n"
     ]
    },
    {
     "name": "stderr",
     "output_type": "stream",
     "text": [
      "\r",
      " 45%|████▌     | 9/20 [03:08<05:27, 29.81s/it]"
     ]
    },
    {
     "name": "stdout",
     "output_type": "stream",
     "text": [
      "Norme du gradient : 11.4136775221\n",
      "Norme du gradient : 4.46899921154\n",
      "Norme du gradient : 0.641729513162\n",
      "Norme du gradient : 0.0101058209146\n",
      "Norme du gradient : 2.98898372612e-06\n",
      "Norme du gradient : 3.00506646019e-13\n",
      " \n",
      "Norme du gradient : 18.5726449539\n",
      "Norme du gradient : 13.5440589937\n",
      "Norme du gradient : 12.9019216712\n",
      "Norme du gradient : 6.46400928698\n",
      "Norme du gradient : 9.46092285133\n",
      "Norme du gradient : 1.1083207739\n",
      "Norme du gradient : 0.0809531372597\n",
      "Norme du gradient : 0.000737820201708\n",
      "Norme du gradient : 6.24513273495e-08\n"
     ]
    },
    {
     "name": "stderr",
     "output_type": "stream",
     "text": [
      "\r",
      " 50%|█████     | 10/20 [03:48<05:29, 32.99s/it]"
     ]
    },
    {
     "name": "stdout",
     "output_type": "stream",
     "text": [
      "Norme du gradient : 12.9519924239\n",
      "Norme du gradient : 5.4267513032\n",
      "Norme du gradient : 1.16891543898\n",
      "Norme du gradient : 0.039886439204\n",
      "Norme du gradient : 4.43377683066e-05\n",
      "Norme du gradient : 6.84272750288e-11\n",
      " \n",
      "Norme du gradient : 19.0256905139\n",
      "Norme du gradient : 13.8331813797\n",
      "Norme du gradient : 12.9571713841\n",
      "Norme du gradient : 7.3037464691\n",
      "Norme du gradient : 10.7705057914\n",
      "Norme du gradient : 1.79531840086\n",
      "Norme du gradient : 0.370063866654\n",
      "Norme du gradient : 0.0147195936166\n",
      "Norme du gradient : 2.51137191777e-05\n",
      "Norme du gradient : 7.33299475761e-11\n"
     ]
    },
    {
     "name": "stderr",
     "output_type": "stream",
     "text": [
      "\r",
      " 55%|█████▌    | 11/20 [04:38<05:41, 37.92s/it]"
     ]
    },
    {
     "name": "stdout",
     "output_type": "stream",
     "text": [
      "Norme du gradient : 12.6846106237\n",
      "Norme du gradient : 5.22010941017\n",
      "Norme du gradient : 1.15423240202\n",
      "Norme du gradient : 0.0364898050422\n",
      "Norme du gradient : 3.05055909636e-05\n",
      "Norme du gradient : 2.37813849954e-11\n",
      " \n",
      "Norme du gradient : 18.3621412086\n",
      "Norme du gradient : 12.5045119837\n",
      "Norme du gradient : 11.9885735137\n",
      "Norme du gradient : 7.58499009421\n",
      "Norme du gradient : 10.7649067757\n",
      "Norme du gradient : 3.58791312438\n",
      "Norme du gradient : 3.13458412469\n",
      "Norme du gradient : 0.547520363425\n",
      "Norme du gradient : 0.0314293468307\n",
      "Norme du gradient : 0.000117502431652\n",
      "Norme du gradient : 1.65481160536e-09\n"
     ]
    },
    {
     "name": "stderr",
     "output_type": "stream",
     "text": [
      "\r",
      " 60%|██████    | 12/20 [05:32<05:41, 42.74s/it]"
     ]
    },
    {
     "name": "stdout",
     "output_type": "stream",
     "text": [
      "Norme du gradient : 12.6261105892\n",
      "Norme du gradient : 5.84759063223\n",
      "Norme du gradient : 1.61339838006\n",
      "Norme du gradient : 0.136204873607\n",
      "Norme du gradient : 0.000423301323529\n",
      "Norme du gradient : 4.9713502843e-09\n",
      " \n",
      "Norme du gradient : 18.6905088513\n",
      "Norme du gradient : 12.8126738048\n",
      "Norme du gradient : 12.1731322019\n",
      "Norme du gradient : 7.86393588399\n",
      "Norme du gradient : 10.9400343946\n",
      "Norme du gradient : 4.11146725858\n",
      "Norme du gradient : 4.61987382234\n",
      "Norme du gradient : 0.825117882109\n",
      "Norme du gradient : 0.0625764607694\n",
      "Norme du gradient : 0.000428569524641\n",
      "Norme du gradient : 2.0392891918e-08\n"
     ]
    },
    {
     "name": "stderr",
     "output_type": "stream",
     "text": [
      "\r",
      " 65%|██████▌   | 13/20 [06:37<05:45, 49.38s/it]"
     ]
    },
    {
     "name": "stdout",
     "output_type": "stream",
     "text": [
      "Norme du gradient : 15.1404207534\n",
      "Norme du gradient : 7.27003827067\n",
      "Norme du gradient : 8.59391264977\n",
      "Norme du gradient : 1.44713611852\n",
      "Norme du gradient : 0.0930091390103\n",
      "Norme du gradient : 0.000223975697175\n",
      "Norme du gradient : 1.35765429393e-09\n",
      " \n",
      "Norme du gradient : 20.5067998835\n",
      "Norme du gradient : 14.6827327158\n",
      "Norme du gradient : 14.1483867798\n",
      "Norme du gradient : 10.8989792035\n",
      "Norme du gradient : 13.7726252921\n",
      "Norme du gradient : 9.23996782898\n",
      "Norme du gradient : 13.4055567953\n",
      "Norme du gradient : 7.54024538917\n",
      "Norme du gradient : 12.5564343298\n",
      "Norme du gradient : 4.41138552914\n",
      "Norme du gradient : 5.24982694423\n",
      "Norme du gradient : 1.0604866351\n",
      "Norme du gradient : 0.0940282570746\n",
      "Norme du gradient : 0.000945618297723\n",
      "Norme du gradient : 9.79983022439e-08\n"
     ]
    },
    {
     "name": "stderr",
     "output_type": "stream",
     "text": [
      "\r",
      " 70%|███████   | 14/20 [07:53<05:45, 57.62s/it]"
     ]
    },
    {
     "name": "stdout",
     "output_type": "stream",
     "text": [
      "Norme du gradient : 14.4525284527\n",
      "Norme du gradient : 10.6040657101\n",
      "Norme du gradient : 10.5430090059\n",
      "Norme du gradient : 10.647292747\n",
      "Norme du gradient : 10.5530499859\n",
      "Norme du gradient : 10.6518660752\n",
      "Norme du gradient : 10.5540074846\n",
      "Norme du gradient : 10.6522144892\n",
      "Norme du gradient : 10.5540898762\n",
      "Norme du gradient : 10.6522442001\n",
      "Norme du gradient : 10.554099645\n",
      "Norme du gradient : 10.6522466539\n",
      "Norme du gradient : 10.5541009704\n",
      "Norme du gradient : 10.6522468666\n",
      "Norme du gradient : 10.554101177\n",
      " \n",
      "Norme du gradient : 20.9335197501\n",
      "Norme du gradient : 14.8501748354\n",
      "Norme du gradient : 14.4996772503\n",
      "Norme du gradient : 12.3879706077\n",
      "Norme du gradient : 14.293694908\n",
      "Norme du gradient : 11.565116808\n",
      "Norme du gradient : 14.1975293698\n",
      "Norme du gradient : 11.1329565268\n",
      "Norme du gradient : 14.1393908656\n",
      "Norme du gradient : 10.8595189961\n",
      "Norme du gradient : 14.099375783\n",
      "Norme du gradient : 10.6667904259\n",
      "Norme du gradient : 14.0694832092\n",
      "Norme du gradient : 10.5207147445\n",
      "Norme du gradient : 14.0458135401\n"
     ]
    },
    {
     "name": "stderr",
     "output_type": "stream",
     "text": [
      "\r",
      " 75%|███████▌  | 15/20 [09:26<05:40, 68.04s/it]"
     ]
    },
    {
     "name": "stdout",
     "output_type": "stream",
     "text": [
      "Norme du gradient : 14.143694889\n",
      "Norme du gradient : 6.62933183111\n",
      "Norme du gradient : 2.29525180235\n",
      "Norme du gradient : 0.400196414767\n",
      "Norme du gradient : 0.00536790636822\n",
      "Norme du gradient : 9.08233469817e-07\n",
      " \n",
      "Norme du gradient : 20.4843013332\n",
      "Norme du gradient : 14.2369611505\n",
      "Norme du gradient : 13.6968546901\n",
      "Norme du gradient : 10.4082604434\n",
      "Norme du gradient : 13.172030477\n",
      "Norme du gradient : 8.32407789642\n",
      "Norme du gradient : 12.4308366257\n",
      "Norme du gradient : 5.69837396039\n",
      "Norme du gradient : 9.04710053182\n",
      "Norme du gradient : 0.558192257795\n",
      "Norme du gradient : 0.00205187273351\n",
      "Norme du gradient : 4.29030203684e-07\n"
     ]
    },
    {
     "name": "stderr",
     "output_type": "stream",
     "text": [
      "\r",
      " 80%|████████  | 16/20 [10:54<04:56, 74.11s/it]"
     ]
    },
    {
     "name": "stdout",
     "output_type": "stream",
     "text": [
      "Norme du gradient : 13.4529836543\n",
      "Norme du gradient : 6.15816494275\n",
      "Norme du gradient : 2.0750827972\n",
      "Norme du gradient : 0.280626890405\n",
      "Norme du gradient : 0.00307497665676\n",
      "Norme du gradient : 3.51989775159e-07\n",
      " \n",
      "Norme du gradient : 21.6357015379\n",
      "Norme du gradient : 15.2172569909\n",
      "Norme du gradient : 14.885909655\n",
      "Norme du gradient : 13.5708090962\n",
      "Norme du gradient : 14.7854906094\n",
      "Norme du gradient : 13.199465341\n",
      "Norme du gradient : 14.7571258965\n",
      "Norme du gradient : 13.0835977384\n",
      "Norme du gradient : 14.7477495975\n",
      "Norme du gradient : 13.0442415957\n",
      "Norme du gradient : 14.7445047357\n",
      "Norme du gradient : 13.0305000898\n",
      "Norme du gradient : 14.7433644649\n",
      "Norme du gradient : 13.0256564058\n",
      "Norme du gradient : 14.7429616294\n"
     ]
    },
    {
     "name": "stderr",
     "output_type": "stream",
     "text": [
      "\r",
      " 85%|████████▌ | 17/20 [12:28<04:00, 80.13s/it]"
     ]
    },
    {
     "name": "stdout",
     "output_type": "stream",
     "text": [
      "Norme du gradient : 14.5620945174\n",
      "Norme du gradient : 7.11047132053\n",
      "Norme du gradient : 4.06886744185\n",
      "Norme du gradient : 1.18146417789\n",
      "Norme du gradient : 0.148137919156\n",
      "Norme du gradient : 0.000826550343376\n",
      "Norme du gradient : 2.53979717646e-08\n",
      " \n",
      "Norme du gradient : 21.8514693874\n",
      "Norme du gradient : 15.2421306463\n",
      "Norme du gradient : 14.774156471\n",
      "Norme du gradient : 12.6921635047\n",
      "Norme du gradient : 14.5863356365\n",
      "Norme du gradient : 12.209074669\n",
      "Norme du gradient : 14.536668297\n",
      "Norme du gradient : 12.0687393126\n",
      "Norme du gradient : 14.5211537481\n",
      "Norme du gradient : 12.0238278787\n",
      "Norme du gradient : 14.5160771878\n",
      "Norme du gradient : 12.0090217743\n",
      "Norme du gradient : 14.5143914512\n",
      "Norme du gradient : 12.0040931906\n",
      "Norme du gradient : 14.5138289667\n"
     ]
    },
    {
     "name": "stderr",
     "output_type": "stream",
     "text": [
      "\r",
      " 90%|█████████ | 18/20 [14:17<02:57, 88.84s/it]"
     ]
    },
    {
     "name": "stdout",
     "output_type": "stream",
     "text": [
      "Norme du gradient : 15.4321834533\n",
      "Norme du gradient : 7.11679087104\n",
      "Norme du gradient : 3.39227176689\n",
      "Norme du gradient : 0.870401298038\n",
      "Norme du gradient : 0.0622134646762\n",
      "Norme du gradient : 0.000128954038546\n",
      "Norme du gradient : 5.76281400842e-10\n",
      " \n",
      "Norme du gradient : 21.1392773748\n",
      "Norme du gradient : 14.2949123861\n",
      "Norme du gradient : 13.7773103902\n",
      "Norme du gradient : 11.5794018992\n",
      "Norme du gradient : 13.5021569052\n",
      "Norme du gradient : 10.9550262045\n",
      "Norme du gradient : 13.4052671021\n",
      "Norme du gradient : 10.7101658766\n",
      "Norme du gradient : 13.3625955141\n",
      "Norme du gradient : 10.5980058651\n",
      "Norme du gradient : 13.3420832544\n",
      "Norme du gradient : 10.5431382775\n",
      "Norme du gradient : 13.3318182319\n",
      "Norme du gradient : 10.5154475719\n",
      "Norme du gradient : 13.3265789351\n"
     ]
    },
    {
     "name": "stderr",
     "output_type": "stream",
     "text": [
      "\r",
      " 95%|█████████▌| 19/20 [16:12<01:36, 96.44s/it]"
     ]
    },
    {
     "name": "stdout",
     "output_type": "stream",
     "text": [
      "Norme du gradient : 13.9744788533\n",
      "Norme du gradient : 5.66898139231\n",
      "Norme du gradient : 1.49217082759\n",
      "Norme du gradient : 0.0676920106095\n",
      "Norme du gradient : 9.29431066726e-05\n",
      "Norme du gradient : 2.10428938726e-10\n",
      " \n",
      "Norme du gradient : 20.8553607141\n",
      "Norme du gradient : 13.8206879903\n",
      "Norme du gradient : 13.057154809\n",
      "Norme du gradient : 10.2694362586\n",
      "Norme du gradient : 12.5517983681\n",
      "Norme du gradient : 9.25884633272\n",
      "Norme du gradient : 12.2946491821\n",
      "Norme du gradient : 8.64947145898\n",
      "Norme du gradient : 12.0931049228\n",
      "Norme du gradient : 8.13543364903\n",
      "Norme du gradient : 11.8822931869\n",
      "Norme du gradient : 7.57394605867\n",
      "Norme du gradient : 11.5902947395\n",
      "Norme du gradient : 6.77844833314\n",
      "Norme du gradient : 10.9992236666\n"
     ]
    },
    {
     "name": "stderr",
     "output_type": "stream",
     "text": [
      "100%|██████████| 20/20 [18:13<00:00, 104.02s/it]\n"
     ]
    },
    {
     "data": {
      "text/plain": [
       "<matplotlib.figure.Figure at 0x7f5064207be0>"
      ]
     },
     "metadata": {},
     "output_type": "display_data"
    },
    {
     "data": {
      "image/png": "[encoded data removed]",
      "text/plain": [
       "<matplotlib.figure.Figure at 0x7f505e8e24a8>"
      ]
     },
     "metadata": {},
     "output_type": "display_data"
    }
   ],
   "source": [
    "## Courbe d'influence de la dimension :\n",
    "\n",
    "print(\"\\nInfluence du nombre d'actifs :\\n\")\n",
    "\n",
    "plt.figure()\n",
    "r = 0.05\n",
    "K = 55\n",
    "d_s =  np.array(np.linspace(1,100, 20), dtype=int)\n",
    "p_n_c = []\n",
    "p_c = []\n",
    "for i in tqdm(range(len(d_s))) :\n",
    "    d = d_s[i]\n",
    "    A = np.identity(d)\n",
    "    x0 = np.ones((d,1)).reshape((d,1))\n",
    "    sigmas = np.array([[0.2] for i in range(d)])        # Sigma des modèles de BS\n",
    "    portofolio = np.array([[1/d for i in range(d)]])\n",
    "    G = n_corr_Gn()\n",
    "    Q = corr_Gn()\n",
    "    p1 = expectation(G,A,x0,10**(-6))\n",
    "    print(\" \")\n",
    "    p2 = expectation(Q,A,x0,10**(-6))\n",
    "    p_n_c.append(p1)\n",
    "    p_c.append(p2)\n",
    "    \n",
    "## Convert\n",
    "p_n_c = np.array(p_n_c)\n",
    "p_c = np.array(p_c)\n",
    "p_n_c = np.where(p_n_c < 1, np.mean(p_n_c), p_n_c)\n",
    "p_c = np.where(p_c < 1, np.mean(p_c), p_c)\n",
    "    \n",
    "plt.plot(d_s, p_n_c, label=\"Actifs non corrélés\", )\n",
    "plt.plot(d_s, p_c, label=\"Actifs corrélés\")\n",
    "plt.xlabel(\"d : nombre d'actifs considérés \", fontsize=12)\n",
    "plt.ylabel(\"p : prix de l'option sur indice\", fontsize=12)\n",
    "plt.legend(fontsize=12)\n",
    "plt.title(\"Influence du nombre d'actifs sur le prix de l'option\")\n",
    "plt.savefig('d.eps', format='eps', dpi=1000)\n",
    "plt.show()"
   ]
  },
  {
   "cell_type": "markdown",
   "metadata": {},
   "source": [
    "## Calcul de l'influence du nombre de pas de discrètisation"
   ]
  },
  {
   "cell_type": "code",
   "execution_count": 28,
   "metadata": {
    "scrolled": true
   },
   "outputs": [
    {
     "name": "stderr",
     "output_type": "stream",
     "text": [
      "\r",
      "  0%|          | 0/1 [00:00<?, ?it/s]"
     ]
    },
    {
     "name": "stdout",
     "output_type": "stream",
     "text": [
      "\n",
      "Influence du nombre de N :\n",
      "\n",
      "N 2000\n",
      "Norme du gradient : 11.6974683749\n",
      "Norme du gradient : 4.31990224342\n",
      "Norme du gradient : 0.547510800598\n",
      "Norme du gradient : 0.00795197513063\n",
      "Norme du gradient : 2.02751086473e-06\n",
      "Norme du gradient : 1.42958958025e-13\n",
      " \n",
      "Norme du gradient : 11.049270693\n",
      "Norme du gradient : 4.6926905325\n",
      "Norme du gradient : 0.758110174687\n",
      "Norme du gradient : 0.0183009010319\n",
      "Norme du gradient : 1.23333478281e-05\n",
      "Norme du gradient : 6.15305511341e-12\n"
     ]
    },
    {
     "name": "stderr",
     "output_type": "stream",
     "text": [
      "\r",
      "100%|██████████| 1/1 [01:34<00:00, 94.86s/it]"
     ]
    },
    {
     "name": "stdout",
     "output_type": "stream",
     "text": [
      "[ 2.38062749]\n",
      "[ 2.2241159]\n"
     ]
    },
    {
     "name": "stderr",
     "output_type": "stream",
     "text": [
      "\n"
     ]
    },
    {
     "data": {
      "text/plain": [
       "<matplotlib.figure.Figure at 0x7f505e62b710>"
      ]
     },
     "metadata": {},
     "output_type": "display_data"
    },
    {
     "data": {
      "image/png": "[encoded data removed]",
      "text/plain": [
       "<matplotlib.figure.Figure at 0x7f505e8871d0>"
      ]
     },
     "metadata": {},
     "output_type": "display_data"
    }
   ],
   "source": [
    "## Courbe d'influence de N:\n",
    "\n",
    "print(\"\\nInfluence du nombre de N :\\n\")\n",
    "\n",
    "plt.figure()\n",
    "r = 0.05\n",
    "K = 55\n",
    "d = 40\n",
    "sigmas = np.array([[0.2] for i in range(d)])\n",
    "A = np.identity(d)\n",
    "x0 = np.ones((d,1)).reshape((d,1))\n",
    "sigmas = np.array([[0.2] for i in range(d)])        # Sigma des modèles de BS\n",
    "portofolio = np.array([[1/d for i in range(d)]])\n",
    "N_s = [2000]\n",
    "p_n_c = []\n",
    "p_c = []\n",
    "for i in tqdm(range(len(N_s))) :\n",
    "    N = N_s[i]\n",
    "    print(\"N\",N)\n",
    "    h = sqrt(T/(N))\n",
    "    G = n_corr_Gn()\n",
    "    Q = corr_Gn()\n",
    "    p1 = expectation(G,A,x0,10**(-6))\n",
    "    print(\" \")\n",
    "    p2 = expectation(Q,A,x0,10**(-6))\n",
    "    p_n_c.append(p1)\n",
    "    p_c.append(p2)\n",
    "    print(p1)\n",
    "    print(p2)\n",
    "    \n",
    "## Convert\n",
    "p_n_c = np.array(p_n_c)\n",
    "p_c = np.array(p_c)\n",
    "p_n_c = np.where(p_n_c < 1, np.mean(p_n_c), p_n_c)\n",
    "p_c = np.where(p_c < 1, np.mean(p_c), p_c)\n",
    "\n",
    "plt.plot(N_s, p_n_c, label=\"Actifs non corrélés\", )\n",
    "plt.plot(N_s, p_c, label=\"Actifs corrélés\")\n",
    "plt.xlabel(\"N : Nombre de pas pour la discrétisation en temps\", fontsize=12)\n",
    "plt.ylabel(\"p : prix de l'option sur indice\", fontsize=12)\n",
    "plt.legend(fontsize=12)\n",
    "plt.title(\"Influence du nombre de pas pour la discrétisation en temps\")\n",
    "plt.savefig('N.eps', format='eps', dpi=1000)\n",
    "plt.show()"
   ]
  },
  {
   "cell_type": "markdown",
   "metadata": {},
   "source": [
    "## Influence de rho :"
   ]
  },
  {
   "cell_type": "code",
   "execution_count": 24,
   "metadata": {
    "scrolled": true
   },
   "outputs": [
    {
     "name": "stderr",
     "output_type": "stream",
     "text": [
      "\r",
      "  0%|          | 0/1 [00:00<?, ?it/s]"
     ]
    },
    {
     "name": "stdout",
     "output_type": "stream",
     "text": [
      "\n",
      "Influence du nombre de rho :\n",
      "\n",
      "Norme du gradient : 11.4411669083\n",
      "Norme du gradient : 5.87144600621\n",
      "Norme du gradient : 1.30386539644\n",
      "Norme du gradient : 0.0316568877819\n",
      "Norme du gradient : 1.71179695659e-05\n",
      "Norme du gradient : 6.50964900663e-12\n",
      " \n",
      "Norme du gradient : 6.88915484978\n",
      "Norme du gradient : 0.276182874587\n",
      "Norme du gradient : 7.53119031692e-05\n",
      "Norme du gradient : 7.74655085708e-12\n"
     ]
    },
    {
     "name": "stderr",
     "output_type": "stream",
     "text": [
      "\r",
      "100%|██████████| 1/1 [00:20<00:00, 20.53s/it]"
     ]
    },
    {
     "name": "stdout",
     "output_type": "stream",
     "text": [
      "[ 2.361491]\n",
      "[ 3.31536597]\n"
     ]
    },
    {
     "name": "stderr",
     "output_type": "stream",
     "text": [
      "\n"
     ]
    },
    {
     "data": {
      "image/png": "[encoded data removed]",
      "text/plain": [
       "<matplotlib.figure.Figure at 0x7f505e61ab70>"
      ]
     },
     "metadata": {},
     "output_type": "display_data"
    }
   ],
   "source": [
    "## Influence de rho :\n",
    "\n",
    "print(\"\\nInfluence du nombre de rho :\\n\")\n",
    "\n",
    "plt.figure()\n",
    "r = 0.05\n",
    "K = 55\n",
    "d = 40\n",
    "sigmas = np.array([[0.2] for i in range(d)])\n",
    "A = np.identity(d)\n",
    "x0 = np.ones((d,1)).reshape((d,1))\n",
    "sigmas = np.array([[0.2] for i in range(d)])        # Sigma des modèles de BS\n",
    "portofolio = np.array([[1/d for i in range(d)]])\n",
    "N = 10\n",
    "h = sqrt(T/(N))\n",
    "rho_s = np.array([np.linspace(-1/(d-1), 0.9, 20)])\n",
    "p_n_c = []\n",
    "p_c = []\n",
    "for i in tqdm(range(len(rho_s))) :\n",
    "    rho = rho_s[i]\n",
    "    G = n_corr_Gn(rho)\n",
    "    Q = corr_Gn(rho)\n",
    "    p1 = expectation(G,A,x0,10**(-6))\n",
    "    print(\" \")\n",
    "    p2 = expectation(Q,A,x0,10**(-6))\n",
    "    p_n_c.append(p1)\n",
    "    p_c.append(p2)\n",
    "plt.plot(rho_s, p_n_c, label=\"Actifs non corrélés\", )\n",
    "plt.plot(rho_s, p_c, label=\"Actifs corrélés\")\n",
    "plt.xlabel(\"rho : facteur de corrélation entre les variables \", fontsize=12)\n",
    "plt.ylabel(\"p : prix de l'option sur indice\", fontsize=12)\n",
    "plt.title(\"Influence de rho sur le prix de l'option\")\n",
    "plt.legend(fontsize=12)\n",
    "#plt.savefig('rho.eps', format='eps', dpi=1000)\n",
    "plt.show()"
   ]
  },
  {
   "cell_type": "markdown",
   "metadata": {},
   "source": [
    "## Comparaison  avec les variances :"
   ]
  },
  {
   "cell_type": "code",
   "execution_count": 12,
   "metadata": {
    "collapsed": true
   },
   "outputs": [],
   "source": [
    "def varMC(Gn_T, A, x0, eps=10e-6):\n",
    "    \n",
    "    mean = 0\n",
    "    square = 0\n",
    "    for i in range(n):\n",
    "        Gi = Gn_T[:,i]\n",
    "        Gi = Gi.reshape((-1,1))\n",
    "        mean += exp(-r*T) * f(Gi)\n",
    "        square += exp(-r*T) * f(Gi)**2\n",
    "    Varn = 1/(n-1) * square - (1/n * mean)**2\n",
    "    \n",
    "    return Varn\n",
    "    \n",
    "def VarRIS(Gn_T, A, x0, Mn, eps=10e-6):\n",
    "\n",
    "    xn = newton(A, x0, Gn_T, eps)\n",
    "    xn = xn.reshape((-1,1))\n",
    "\n",
    "    vn = 0\n",
    "    for i in range(n):\n",
    "        Gi = Gn_T[:,i]\n",
    "        Gi = Gi.reshape((-1,1))\n",
    "        power = (A.dot(xn).T).dot(Gi) - np.linalg.norm(A.dot(xn))**2/2\n",
    "        temp = exp(-r*T) * f(Gi)**2 * exp(-power)\n",
    "        vn += temp\n",
    "        \n",
    "    Varn = 1/(n-1)*vn - Mn**2\n",
    "    return Varn"
   ]
  },
  {
   "cell_type": "code",
   "execution_count": 22,
   "metadata": {
    "scrolled": true
   },
   "outputs": [
    {
     "name": "stdout",
     "output_type": "stream",
     "text": [
      "Norme du gradient : 10.0019184315\n",
      "Norme du gradient : 3.25146478858\n",
      "Norme du gradient : 2.1823948517\n",
      "Norme du gradient : 1.52611111689\n",
      "Norme du gradient : 1.56158218643\n",
      "Norme du gradient : 1.44923999723\n",
      "Norme du gradient : 1.51774137737\n",
      "Norme du gradient : 1.45519908852\n",
      "Norme du gradient : 1.52148769921\n",
      "Norme du gradient : 1.45494414332\n",
      "Norme du gradient : 1.52132316442\n",
      "Norme du gradient : 1.45494507514\n",
      "Norme du gradient : 1.52132429133\n",
      "Norme du gradient : 1.4549455924\n",
      "Norme du gradient : 1.52132459445\n",
      " \n",
      "Norme du gradient : 10.5163630587\n",
      "Norme du gradient : 3.41282507948\n",
      "Norme du gradient : 1.52590751831\n",
      "Norme du gradient : 0.0601843404467\n",
      "Norme du gradient : 8.4852684819e-05\n",
      "Norme du gradient : 1.82753576072e-10\n",
      "Norme du gradient : 10.0019184315\n",
      "Norme du gradient : 3.25146478858\n",
      "Norme du gradient : 2.1823948517\n",
      "Norme du gradient : 1.52611111689\n",
      "Norme du gradient : 1.56158218643\n",
      "Norme du gradient : 1.44923999723\n",
      "Norme du gradient : 1.51774137737\n",
      "Norme du gradient : 1.45519908852\n",
      "Norme du gradient : 1.52148769921\n",
      "Norme du gradient : 1.45494414332\n",
      "Norme du gradient : 1.52132316442\n",
      "Norme du gradient : 1.45494507514\n",
      "Norme du gradient : 1.52132429133\n",
      "Norme du gradient : 1.4549455924\n",
      "Norme du gradient : 1.52132459445\n",
      "Norme du gradient : 10.5163630587\n",
      "Norme du gradient : 3.41282507948\n",
      "Norme du gradient : 1.52590751831\n",
      "Norme du gradient : 0.0601843404467\n",
      "Norme du gradient : 8.4852684819e-05\n",
      "Norme du gradient : 1.82753576072e-10\n",
      "Norme du gradient : 10.0695012813\n",
      "Norme du gradient : 3.683829273\n",
      "Norme du gradient : 0.446143463633\n",
      "Norme du gradient : 0.00560090250272\n",
      "Norme du gradient : 1.03194896748e-06\n",
      "Norme du gradient : 3.63400413771e-14\n",
      " \n",
      "Norme du gradient : 11.3384874365\n",
      "Norme du gradient : 5.89740680878\n",
      "Norme du gradient : 1.43487609734\n",
      "Norme du gradient : 0.0650687420273\n",
      "Norme du gradient : 0.000147783754661\n",
      "Norme du gradient : 8.01842900509e-10\n",
      "Norme du gradient : 10.0695012813\n",
      "Norme du gradient : 3.683829273\n",
      "Norme du gradient : 0.446143463633\n",
      "Norme du gradient : 0.00560090250272\n",
      "Norme du gradient : 1.03194896748e-06\n",
      "Norme du gradient : 11.3384874365\n",
      "Norme du gradient : 5.89740680878\n",
      "Norme du gradient : 1.43487609734\n",
      "Norme du gradient : 0.0650687420273\n",
      "Norme du gradient : 0.000147783754661\n",
      "Norme du gradient : 8.01842900509e-10\n",
      "Norme du gradient : 10.3835009232\n",
      "Norme du gradient : 3.66654001706\n",
      "Norme du gradient : 2.38385330837\n",
      "Norme du gradient : 1.59355031465\n",
      "Norme du gradient : 1.64728036934\n",
      "Norme du gradient : 1.45441279523\n",
      "Norme du gradient : 1.56617378941\n",
      "Norme du gradient : 1.46614574361\n",
      "Norme du gradient : 1.57358847625\n",
      "Norme du gradient : 1.46552860095\n",
      "Norme du gradient : 1.5731872475\n",
      "Norme du gradient : 1.46553513501\n",
      "Norme du gradient : 1.57319278526\n",
      "Norme du gradient : 1.46553706504\n",
      "Norme du gradient : 1.57319390552\n",
      " \n",
      "Norme du gradient : 11.4341079704\n",
      "Norme du gradient : 4.64153768228\n",
      "Norme du gradient : 2.19196773309\n",
      "Norme du gradient : 0.212085539687\n",
      "Norme du gradient : 0.00181035030007\n",
      "Norme du gradient : 1.30744574342e-07\n",
      "Norme du gradient : 10.3835009232\n",
      "Norme du gradient : 3.66654001706\n",
      "Norme du gradient : 2.38385330837\n",
      "Norme du gradient : 1.59355031465\n",
      "Norme du gradient : 1.64728036934\n",
      "Norme du gradient : 1.45441279523\n",
      "Norme du gradient : 1.56617378941\n",
      "Norme du gradient : 1.46614574361\n",
      "Norme du gradient : 1.57358847625\n",
      "Norme du gradient : 1.46552860095\n",
      "Norme du gradient : 1.5731872475\n",
      "Norme du gradient : 1.46553513501\n",
      "Norme du gradient : 1.57319278526\n",
      "Norme du gradient : 1.46553706504\n",
      "Norme du gradient : 1.57319390552\n",
      "Norme du gradient : 11.4341079704\n",
      "Norme du gradient : 4.64153768228\n",
      "Norme du gradient : 2.19196773309\n",
      "Norme du gradient : 0.212085539687\n",
      "Norme du gradient : 0.00181035030007\n",
      "Norme du gradient : 1.30744574342e-07\n",
      "Norme du gradient : 11.6289987586\n",
      "Norme du gradient : 4.98363614214\n",
      "Norme du gradient : 0.798041739271\n",
      "Norme du gradient : 0.0186854235145\n",
      "Norme du gradient : 1.16721928639e-05\n",
      "Norme du gradient : 4.88594624181e-12\n",
      " \n",
      "Norme du gradient : 11.8303525246\n",
      "Norme du gradient : 6.00283668978\n",
      "Norme du gradient : 2.57993507126\n",
      "Norme du gradient : 0.163163304292\n",
      "Norme du gradient : 0.00117553682509\n",
      "Norme du gradient : 7.44413585044e-08\n",
      "Norme du gradient : 11.6289987586\n",
      "Norme du gradient : 4.98363614214\n",
      "Norme du gradient : 0.798041739271\n",
      "Norme du gradient : 0.0186854235145\n",
      "Norme du gradient : 1.16721928639e-05\n",
      "Norme du gradient : 4.88594624181e-12\n",
      "Norme du gradient : 11.8303525246\n",
      "Norme du gradient : 6.00283668978\n",
      "Norme du gradient : 2.57993507126\n",
      "Norme du gradient : 0.163163304292\n",
      "Norme du gradient : 0.00117553682509\n",
      "Norme du gradient : 7.44413585044e-08\n",
      "Norme du gradient : 10.7010059324\n",
      "Norme du gradient : 3.82852165416\n",
      "Norme du gradient : 2.17865759867\n",
      "Norme du gradient : 1.51013756232\n",
      "Norme du gradient : 1.51458944313\n",
      "Norme du gradient : 1.35310982679\n",
      "Norme du gradient : 1.42029734351\n",
      "Norme du gradient : 1.35960366984\n",
      "Norme du gradient : 1.42459063657\n",
      "Norme du gradient : 1.35957895782\n",
      "Norme du gradient : 1.42456836415\n",
      "Norme du gradient : 1.35956457272\n",
      "Norme du gradient : 1.42455922689\n",
      "Norme du gradient : 1.35956546832\n",
      "Norme du gradient : 1.42455981195\n",
      " \n",
      "Norme du gradient : 14.2607376207\n",
      "Norme du gradient : 7.72359311711\n",
      "Norme du gradient : 3.23276002876\n",
      "Norme du gradient : 0.713507297033\n",
      "Norme du gradient : 0.0342374152967\n",
      "Norme du gradient : 7.35796536806e-05\n",
      "Norme du gradient : 3.38260257123e-10\n",
      "Norme du gradient : 10.7010059324\n",
      "Norme du gradient : 3.82852165416\n",
      "Norme du gradient : 2.17865759867\n",
      "Norme du gradient : 1.51013756232\n",
      "Norme du gradient : 1.51458944313\n",
      "Norme du gradient : 1.35310982679\n",
      "Norme du gradient : 1.42029734351\n",
      "Norme du gradient : 1.35960366984\n",
      "Norme du gradient : 1.42459063657\n",
      "Norme du gradient : 1.35957895782\n",
      "Norme du gradient : 1.42456836415\n",
      "Norme du gradient : 1.35956457272\n",
      "Norme du gradient : 1.42455922689\n",
      "Norme du gradient : 1.35956546832\n",
      "Norme du gradient : 1.42455981195\n",
      "Norme du gradient : 14.2607376207\n",
      "Norme du gradient : 7.72359311711\n",
      "Norme du gradient : 3.23276002876\n",
      "Norme du gradient : 0.713507297033\n",
      "Norme du gradient : 0.0342374152967\n",
      "Norme du gradient : 7.35796536806e-05\n",
      "Norme du gradient : 3.38260257123e-10\n",
      "Norme du gradient : 10.9993788823\n",
      "Norme du gradient : 4.04420415275\n",
      "Norme du gradient : 0.543642155552\n",
      "Norme du gradient : 0.00848011639905\n",
      "Norme du gradient : 2.36303115547e-06\n",
      "Norme du gradient : 1.94307473005e-13\n",
      " \n",
      "Norme du gradient : 16.1388120254\n",
      "Norme du gradient : 11.5794335999\n",
      "Norme du gradient : 9.43196214301\n",
      "Norme du gradient : 2.39408371456\n",
      "Norme du gradient : 0.301200615329\n",
      "Norme du gradient : 0.00807188640956\n",
      "Norme du gradient : 6.11152205427e-06\n",
      "Norme du gradient : 3.50663331728e-12\n",
      "Norme du gradient : 10.9993788823\n",
      "Norme du gradient : 4.04420415275\n",
      "Norme du gradient : 0.543642155552\n",
      "Norme du gradient : 0.00848011639905\n",
      "Norme du gradient : 2.36303115547e-06\n",
      "Norme du gradient : 16.1388120254\n",
      "Norme du gradient : 11.5794335999\n",
      "Norme du gradient : 9.43196214301\n",
      "Norme du gradient : 2.39408371456\n",
      "Norme du gradient : 0.301200615329\n",
      "Norme du gradient : 0.00807188640956\n",
      "Norme du gradient : 6.11152205427e-06\n",
      "\n",
      "--------------\n",
      "rho =  0.1\n",
      "K, Prix nc, , 'Prix c', 'Var_Mc nc', 'Var_Mc c', Var_RIS_nc, var_RIS_c\n",
      "50  [ 0.03894007]  [ 0.09659038]  [ 0.04738094]  [ 0.19664611]  [ 0.00147929]  [ 0.02259718] \n",
      "55  [ 2.37488893]  [ 3.00210432]  [ 2.62479954]  [ 3.4056048]  [ 0.70198755]  [ 4.51516698] \n",
      "\n",
      "--------------\n",
      "rho =  0.2\n",
      "K, Prix nc, , 'Prix c', 'Var_Mc nc', 'Var_Mc c', Var_RIS_nc, var_RIS_c\n",
      "50  [ 0.03894007]  [ 0.09659038]  [ 0.04738094]  [ 0.19664611]  [ 0.00147929]  [ 0.02259718] \n",
      "55  [ 0.03951594]  [ 0.07801974]  [ 0.04402405]  [ 0.59626423]  [ 0.00111759]  [ 0.03705516] \n",
      "\n",
      "--------------\n",
      "rho =  0.5\n",
      "K, Prix nc, , 'Prix c', 'Var_Mc nc', 'Var_Mc c', Var_RIS_nc, var_RIS_c\n",
      "50  [ 0.03894007]  [ 0.09659038]  [ 0.04738094]  [ 0.19664611]  [ 0.00147929]  [ 0.02259718] \n",
      "55  [ 2.36728682]  [ 2.76516192]  [ 2.63829377]  [ 5.14914689]  [ 0.6957113]  [ 4.01425167] \n"
     ]
    }
   ],
   "source": [
    "## Comparaison Variance sans fonction d'imortance et avec :\n",
    "\n",
    "## Parameters :\n",
    "\n",
    "d = 40              # actif\n",
    "r = 0.05            # Facteur d'actualisation\n",
    "T = 1               # maturite\n",
    "S0 = 50             # Initialisation des modèles de BS\n",
    "sigmas = np.array([[0.2] for i in range(d)])        # Sigma des modèles de BS\n",
    "portofolio = np.array([[1/d for i in range(d)]])    # Répartition entre les différents BS\n",
    "K = 45                                              # Strike\n",
    "n = 10000                                           # Nombre de simulations pour Monte-Carlo\n",
    "N = 100                                             # Nombre de points de discrétisation\n",
    "rho = 0.1\n",
    "h = sqrt(T/(N))\n",
    "\n",
    "x0 = np.ones((d,1)).reshape((d,1))\n",
    "A = np.identity(d)\n",
    "\n",
    "rho_s = [0.1, 0.2, .5]\n",
    "K_s = [50,55]\n",
    "prices_n_c = []\n",
    "prices_c = []\n",
    "Var_MC_nc = []\n",
    "Var_MC_c = []\n",
    "Var_RIS_nc = []\n",
    "Var_RIS_c = []\n",
    "\n",
    "for rho in rho_s:\n",
    "    for K in K_s :\n",
    "        G = n_corr_Gn()\n",
    "        p1 = expectation(G,A,x0,10**(-6))\n",
    "        print(\" \")\n",
    "        Q = corr_Gn()\n",
    "        p2 = expectation(Q,A,x0,10**(-6))\n",
    "        prices_n_c.append(p1)\n",
    "        prices_c.append(p2)\n",
    "        \n",
    "        Var_MC_nc.append(varMC(G, A, x0))\n",
    "        Var_MC_c.append(varMC(Q, A, x0))\n",
    "        \n",
    "        Var_RIS_nc.append(VarRIS(G, A, x0, p1))\n",
    "        Var_RIS_c.append(VarRIS(Q, A, x0, p1))\n",
    "        \n",
    "\n",
    "for i in range(len(rho_s)):\n",
    "    print('\\n--------------')\n",
    "    print('rho = ', rho_s[i])\n",
    "    print(\"K, Prix nc, , 'Prix c', 'Var_Mc nc', 'Var_Mc c', Var_RIS_nc, var_RIS_c\" )\n",
    "    for j in range(len(K_s)) :\n",
    "        print(\"{}  {}  {}  {}  {}  {}  {} \".format(K_s[j], prices_n_c[(i+1)*j], prices_c[(i+1)*j], Var_MC_nc[(i+1)*j], Var_MC_c[(i+1)*j], Var_RIS_nc[(i+1)*j], Var_RIS_c[(i+1)*j]))"
   ]
  },
  {
   "cell_type": "code",
   "execution_count": null,
   "metadata": {
    "collapsed": true
   },
   "outputs": [],
   "source": []
  },
  {
   "cell_type": "code",
   "execution_count": null,
   "metadata": {
    "collapsed": true
   },
   "outputs": [],
   "source": []
  }
 ],
 "metadata": {
  "kernelspec": {
   "display_name": "Python 3",
   "language": "python",
   "name": "python3"
  },
  "language_info": {
   "codemirror_mode": {
    "name": "ipython",
    "version": 3
   },
   "file_extension": ".py",
   "mimetype": "text/x-python",
   "name": "python",
   "nbconvert_exporter": "python",
   "pygments_lexer": "ipython3",
   "version": "3.6.0"
  }
 },
 "nbformat": 4,
 "nbformat_minor": 2
}
